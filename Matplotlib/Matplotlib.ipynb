{
 "cells": [
  {
   "cell_type": "markdown",
   "id": "2b5d73f1",
   "metadata": {},
   "source": [
    "# Matplotlib"
   ]
  },
  {
   "cell_type": "markdown",
   "id": "88c13129",
   "metadata": {},
   "source": [
    "#### It is open source drawing library and It is used to draw 2D and 3D graphics.\n",
    "#### We can generate plot like histogram,barchart, piechart,Scatter plot etc"
   ]
  },
  {
   "cell_type": "code",
   "execution_count": 1,
   "id": "6962bbc9",
   "metadata": {},
   "outputs": [
    {
     "name": "stdout",
     "output_type": "stream",
     "text": [
      "1.20.3\n"
     ]
    }
   ],
   "source": [
    " from matplotlib import pylab\n",
    "print(pylab.__version__)"
   ]
  },
  {
   "cell_type": "code",
   "execution_count": 2,
   "id": "bd992269",
   "metadata": {},
   "outputs": [
    {
     "name": "stdout",
     "output_type": "stream",
     "text": [
      "[ 0.          0.41666667  0.83333333  1.25        1.66666667  2.08333333\n",
      "  2.5         2.91666667  3.33333333  3.75        4.16666667  4.58333333\n",
      "  5.          5.41666667  5.83333333  6.25        6.66666667  7.08333333\n",
      "  7.5         7.91666667  8.33333333  8.75        9.16666667  9.58333333\n",
      " 10.        ]\n",
      "\n",
      "\n",
      "[  0.           0.17361111   0.69444444   1.5625       2.77777778\n",
      "   4.34027778   6.25         8.50694444  11.11111111  14.0625\n",
      "  17.36111111  21.00694444  25.          29.34027778  34.02777778\n",
      "  39.0625      44.44444444  50.17361111  56.25        62.67361111\n",
      "  69.44444444  76.5625      84.02777778  91.84027778 100.        ]\n"
     ]
    }
   ],
   "source": [
    "# Use Numpy to generate random data\n",
    "\n",
    "import numpy as np\n",
    "x = np.linspace(0,10,25)      #This will give 25 elements ranged between 0 to 10\n",
    "y = x*x\n",
    "print(x)\n",
    "print('\\n')\n",
    "print(y)"
   ]
  },
  {
   "cell_type": "code",
   "execution_count": 3,
   "id": "923bf26d",
   "metadata": {},
   "outputs": [
    {
     "name": "stdout",
     "output_type": "stream",
     "text": [
      "[[  0.           0.41666667]\n",
      " [  0.83333333   1.25      ]\n",
      " [  1.66666667   2.08333333]\n",
      " [  2.5          2.91666667]\n",
      " [  3.33333333   3.75      ]\n",
      " [  4.16666667   4.58333333]\n",
      " [  5.           5.41666667]\n",
      " [  5.83333333   6.25      ]\n",
      " [  6.66666667   7.08333333]\n",
      " [  7.5          7.91666667]\n",
      " [  8.33333333   8.75      ]\n",
      " [  9.16666667   9.58333333]\n",
      " [ 10.           0.        ]\n",
      " [  0.17361111   0.69444444]\n",
      " [  1.5625       2.77777778]\n",
      " [  4.34027778   6.25      ]\n",
      " [  8.50694444  11.11111111]\n",
      " [ 14.0625      17.36111111]\n",
      " [ 21.00694444  25.        ]\n",
      " [ 29.34027778  34.02777778]\n",
      " [ 39.0625      44.44444444]\n",
      " [ 50.17361111  56.25      ]\n",
      " [ 62.67361111  69.44444444]\n",
      " [ 76.5625      84.02777778]\n",
      " [ 91.84027778 100.        ]]\n"
     ]
    }
   ],
   "source": [
    "#The above printed data shape is of 2,25\n",
    "print(np.array([x,y]).reshape(25,2))"
   ]
  },
  {
   "cell_type": "code",
   "execution_count": 4,
   "id": "cdd02c45",
   "metadata": {},
   "outputs": [
    {
     "data": {
      "text/plain": [
       "[<matplotlib.lines.Line2D at 0x1b205bff9a0>]"
      ]
     },
     "execution_count": 4,
     "metadata": {},
     "output_type": "execute_result"
    },
    {
     "data": {
      "image/png": "[encoded data removed]",
      "text/plain": [
       "<Figure size 432x288 with 1 Axes>"
      ]
     },
     "metadata": {
      "needs_background": "light"
     },
     "output_type": "display_data"
    }
   ],
   "source": [
    "# While ploting It take only 1 command to draw\n",
    "\n",
    "pylab.plot(x,y,'b')       # r stands for red , b for blue"
   ]
  },
  {
   "cell_type": "code",
   "execution_count": 5,
   "id": "c359a2d1",
   "metadata": {},
   "outputs": [
    {
     "data": {
      "text/plain": [
       "[<matplotlib.lines.Line2D at 0x1b205d89160>]"
      ]
     },
     "execution_count": 5,
     "metadata": {},
     "output_type": "execute_result"
    },
    {
     "data": {
      "image/png": "[encoded data removed]",
      "text/plain": [
       "<Figure size 432x288 with 2 Axes>"
      ]
     },
     "metadata": {
      "needs_background": "light"
     },
     "output_type": "display_data"
    }
   ],
   "source": [
    "#  Drwaing  subgraph\n",
    "\n",
    "pylab.subplot(1,2,1)    # The contents of the brakets represents(rows,columns,indexes)\n",
    "pylab.plot(x,y,'r--')   # The third parameter here determine color and line style\n",
    "\n",
    "pylab.subplot(1,2,2)\n",
    "pylab.plot(y,x,'r--')\n",
    "\n",
    "pylab.subplot(2,2,2)\n",
    "pylab.plot(y,x,'r--')"
   ]
  },
  {
   "cell_type": "code",
   "execution_count": 6,
   "id": "84e6c912",
   "metadata": {},
   "outputs": [
    {
     "data": {
      "text/plain": [
       "[<matplotlib.lines.Line2D at 0x1b205dc1d90>]"
      ]
     },
     "execution_count": 6,
     "metadata": {},
     "output_type": "execute_result"
    },
    {
     "data": {
      "image/png": "[encoded data removed]",
      "text/plain": [
       "<Figure size 432x288 with 1 Axes>"
      ]
     },
     "metadata": {
      "needs_background": "light"
     },
     "output_type": "display_data"
    }
   ],
   "source": [
    "# (1,2,1) and (1,2,2) are sigificant if we want to tiled subplots, without which both the graphs will in the same plot\n",
    "\n",
    "pylab.subplot(1,2,1)    # The contents of the brakets represents(rows,columns,indexes)\n",
    "pylab.plot(x,y,'r--')   # The third parameter here determine color and line style\n",
    "\n",
    "pylab.subplot(1,2,1)\n",
    "pylab.plot(y,x,'g-')\n"
   ]
  },
  {
   "cell_type": "markdown",
   "id": "156e1359",
   "metadata": {},
   "source": [
    "# Operator Description"
   ]
  },
  {
   "cell_type": "markdown",
   "id": "d1df050d",
   "metadata": {},
   "source": [
    "#### fig.add_axes() = Initializes subplot a =fig.add_subplot(222)\n",
    "#### fig,b = plt.subplots(nrows=3 , ncols=2) = Adds Subplot\n",
    "#### ax = plt.subplot(2,2) = Creates Subplot"
   ]
  },
  {
   "cell_type": "code",
   "execution_count": 7,
   "id": "8b306602",
   "metadata": {},
   "outputs": [],
   "source": [
    "from matplotlib import pyplot as plt"
   ]
  },
  {
   "cell_type": "code",
   "execution_count": 8,
   "id": "7618ca74",
   "metadata": {},
   "outputs": [
    {
     "data": {
      "text/plain": [
       "[<matplotlib.lines.Line2D at 0x1b205e2f040>]"
      ]
     },
     "execution_count": 8,
     "metadata": {},
     "output_type": "execute_result"
    },
    {
     "data": {
      "image/png": "[encoded data removed]",
      "text/plain": [
       "<Figure size 432x288 with 1 Axes>"
      ]
     },
     "metadata": {
      "needs_background": "light"
     },
     "output_type": "display_data"
    }
   ],
   "source": [
    "fig = plt.figure()\n",
    "\n",
    "axes = fig.add_axes([0.5,0.1,0.8,0.8])\n",
    "#It controls the left,right,width,height of the canvas(from 0 to 1)\n",
    "\n",
    "axes.plot(x,y,'r')"
   ]
  },
  {
   "cell_type": "code",
   "execution_count": 10,
   "id": "14c696c4",
   "metadata": {},
   "outputs": [
    {
     "data": {
      "image/png": "[encoded data removed]",
      "text/plain": [
       "<Figure size 432x288 with 3 Axes>"
      ]
     },
     "metadata": {
      "needs_background": "light"
     },
     "output_type": "display_data"
    }
   ],
   "source": [
    "fig,axes = plt.subplots(nrows = 1, ncols=3)  # Submap is of 1 row and 2 columns\n",
    "for ax in axes:\n",
    "    ax.plot(x,y,'r')"
   ]
  },
  {
   "cell_type": "code",
   "execution_count": 11,
   "id": "73a9be80",
   "metadata": {},
   "outputs": [
    {
     "ename": "AttributeError",
     "evalue": "'numpy.ndarray' object has no attribute 'plot'",
     "output_type": "error",
     "traceback": [
      "\u001b[1;31m---------------------------------------------------------------------------\u001b[0m",
      "\u001b[1;31mAttributeError\u001b[0m                            Traceback (most recent call last)",
      "\u001b[1;32m~\\AppData\\Local\\Temp/ipykernel_11772/3317488291.py\u001b[0m in \u001b[0;36m<module>\u001b[1;34m\u001b[0m\n\u001b[0;32m      1\u001b[0m \u001b[0mfig\u001b[0m\u001b[1;33m,\u001b[0m\u001b[0maxes\u001b[0m \u001b[1;33m=\u001b[0m \u001b[0mplt\u001b[0m\u001b[1;33m.\u001b[0m\u001b[0msubplots\u001b[0m\u001b[1;33m(\u001b[0m\u001b[0mnrows\u001b[0m \u001b[1;33m=\u001b[0m \u001b[1;36m2\u001b[0m\u001b[1;33m,\u001b[0m \u001b[0mncols\u001b[0m\u001b[1;33m=\u001b[0m\u001b[1;36m3\u001b[0m\u001b[1;33m)\u001b[0m  \u001b[1;31m# Submap is of 1 row and 2 columns\u001b[0m\u001b[1;33m\u001b[0m\u001b[1;33m\u001b[0m\u001b[0m\n\u001b[0;32m      2\u001b[0m \u001b[1;32mfor\u001b[0m \u001b[0max\u001b[0m \u001b[1;32min\u001b[0m \u001b[0maxes\u001b[0m\u001b[1;33m:\u001b[0m\u001b[1;33m\u001b[0m\u001b[1;33m\u001b[0m\u001b[0m\n\u001b[1;32m----> 3\u001b[1;33m     \u001b[0max\u001b[0m\u001b[1;33m.\u001b[0m\u001b[0mplot\u001b[0m\u001b[1;33m(\u001b[0m\u001b[0mx\u001b[0m\u001b[1;33m,\u001b[0m\u001b[0my\u001b[0m\u001b[1;33m,\u001b[0m\u001b[1;34m'r'\u001b[0m\u001b[1;33m)\u001b[0m\u001b[1;33m\u001b[0m\u001b[1;33m\u001b[0m\u001b[0m\n\u001b[0m",
      "\u001b[1;31mAttributeError\u001b[0m: 'numpy.ndarray' object has no attribute 'plot'"
     ]
    },
    {
     "data": {
      "image/png": "[encoded data removed]",
      "text/plain": [
       "<Figure size 432x288 with 6 Axes>"
      ]
     },
     "metadata": {
      "needs_background": "light"
     },
     "output_type": "display_data"
    }
   ],
   "source": [
    "fig,axes = plt.subplots(nrows = 2, ncols=3)  # Submap is of 1 row and 2 columns\n",
    "for ax in axes:\n",
    "    ax.plot(x,y,'r')"
   ]
  },
  {
   "cell_type": "code",
   "execution_count": null,
   "id": "4eb96edf",
   "metadata": {},
   "outputs": [],
   "source": []
  }
 ],
 "metadata": {
  "kernelspec": {
   "display_name": "Python 3 (ipykernel)",
   "language": "python",
   "name": "python3"
  },
  "language_info": {
   "codemirror_mode": {
    "name": "ipython",
    "version": 3
   },
   "file_extension": ".py",
   "mimetype": "text/x-python",
   "name": "python",
   "nbconvert_exporter": "python",
   "pygments_lexer": "ipython3",
   "version": "3.9.7"
  }
 },
 "nbformat": 4,
 "nbformat_minor": 5
}
