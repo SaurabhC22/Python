{
 "cells": [
  {
   "cell_type": "markdown",
   "id": "ce1924b1",
   "metadata": {},
   "source": [
    "# Exceptional  handling"
   ]
  },
  {
   "cell_type": "code",
   "execution_count": 1,
   "id": "97b928e9",
   "metadata": {},
   "outputs": [
    {
     "ename": "ZeroDivisionError",
     "evalue": "division by zero",
     "output_type": "error",
     "traceback": [
      "\u001b[1;31m---------------------------------------------------------------------------\u001b[0m",
      "\u001b[1;31mZeroDivisionError\u001b[0m                         Traceback (most recent call last)",
      "\u001b[1;32m~\\AppData\\Local\\Temp/ipykernel_14856/722170207.py\u001b[0m in \u001b[0;36m<module>\u001b[1;34m\u001b[0m\n\u001b[0;32m      1\u001b[0m \u001b[0ma\u001b[0m \u001b[1;33m=\u001b[0m \u001b[1;36m10\u001b[0m\u001b[1;33m\u001b[0m\u001b[1;33m\u001b[0m\u001b[0m\n\u001b[1;32m----> 2\u001b[1;33m \u001b[0ma\u001b[0m\u001b[1;33m/\u001b[0m\u001b[1;36m0\u001b[0m\u001b[1;33m\u001b[0m\u001b[1;33m\u001b[0m\u001b[0m\n\u001b[0m\u001b[0;32m      3\u001b[0m \u001b[1;33m\u001b[0m\u001b[0m\n\u001b[0;32m      4\u001b[0m \u001b[1;31m# Here we got an error we have to learn how to handel this type of error in real time\u001b[0m\u001b[1;33m\u001b[0m\u001b[1;33m\u001b[0m\u001b[0m\n",
      "\u001b[1;31mZeroDivisionError\u001b[0m: division by zero"
     ]
    }
   ],
   "source": [
    "a = 10\n",
    "a/0\n",
    "\n",
    "# Here we got an error we have to learn how to handel this type of error in real time"
   ]
  },
  {
   "cell_type": "code",
   "execution_count": 2,
   "id": "f034ef55",
   "metadata": {},
   "outputs": [],
   "source": [
    "# Each amd every set or peice code should be wriiten with Exceptional Handling.\n",
    "# We should always write a code in try and except block."
   ]
  },
  {
   "cell_type": "code",
   "execution_count": 3,
   "id": "4e7e3972",
   "metadata": {},
   "outputs": [
    {
     "ename": "FileNotFoundError",
     "evalue": "[Errno 2] No such file or directory: 'raj.txt'",
     "output_type": "error",
     "traceback": [
      "\u001b[1;31m---------------------------------------------------------------------------\u001b[0m",
      "\u001b[1;31mFileNotFoundError\u001b[0m                         Traceback (most recent call last)",
      "\u001b[1;32m~\\AppData\\Local\\Temp/ipykernel_14856/4267742798.py\u001b[0m in \u001b[0;36m<module>\u001b[1;34m\u001b[0m\n\u001b[1;32m----> 1\u001b[1;33m \u001b[0mf\u001b[0m \u001b[1;33m=\u001b[0m \u001b[0mopen\u001b[0m\u001b[1;33m(\u001b[0m\u001b[1;34m\"raj.txt\"\u001b[0m \u001b[1;33m,\u001b[0m \u001b[1;34m\"r\"\u001b[0m\u001b[1;33m)\u001b[0m\u001b[1;33m\u001b[0m\u001b[1;33m\u001b[0m\u001b[0m\n\u001b[0m\u001b[0;32m      2\u001b[0m \u001b[1;33m\u001b[0m\u001b[0m\n\u001b[0;32m      3\u001b[0m \u001b[0mprint\u001b[0m\u001b[1;33m(\u001b[0m\u001b[1;34m\"This is my code\"\u001b[0m\u001b[1;33m)\u001b[0m\u001b[1;33m\u001b[0m\u001b[1;33m\u001b[0m\u001b[0m\n",
      "\u001b[1;31mFileNotFoundError\u001b[0m: [Errno 2] No such file or directory: 'raj.txt'"
     ]
    }
   ],
   "source": [
    "f = open(\"raj.txt\" , \"r\")\n",
    "\n",
    "print(\"This is my code\")"
   ]
  },
  {
   "cell_type": "code",
   "execution_count": 4,
   "id": "4bad0d9e",
   "metadata": {},
   "outputs": [],
   "source": [
    "# Here is the major problem is that after the error comes its stops all the exceution of other line of code below the Errored Line.\n",
    "# Now if i have written the 100 lines of code and the error comes in 50th line then the haf of my code wil not execute so to overcome this problem we use Exceptional Handling\n",
    "# Now to handle this type of error we hve try ,execpt ,finally and catch block"
   ]
  },
  {
   "cell_type": "code",
   "execution_count": 5,
   "id": "1ff83487",
   "metadata": {},
   "outputs": [
    {
     "name": "stdout",
     "output_type": "stream",
     "text": [
      "division by zero\n",
      "THis is final message\n"
     ]
    }
   ],
   "source": [
    "# Handling Error\n",
    "\n",
    "try:\n",
    "    a = 10\n",
    "    a/0\n",
    "except Exception as e:\n",
    "    print(e)\n",
    "    print(\"THis is final message\")\n",
    "    \n",
    "# Here we can see the error is present but the type of showing error is different and also the remaining lines which are correct are able tp execute"
   ]
  },
  {
   "cell_type": "code",
   "execution_count": 6,
   "id": "8d13c314",
   "metadata": {},
   "outputs": [],
   "source": [
    "try:\n",
    "    a=10\n",
    "    a/10\n",
    "except Exception as e:\n",
    "    print(e)\n",
    "    \n",
    "    \n",
    "# Here we are not getting any output because there is no error as the code in try block is valid"
   ]
  },
  {
   "cell_type": "code",
   "execution_count": 7,
   "id": "0eb36db9",
   "metadata": {},
   "outputs": [
    {
     "name": "stdout",
     "output_type": "stream",
     "text": [
      "[Errno 2] No such file or directory: 'raj.txt'\n"
     ]
    }
   ],
   "source": [
    "try:\n",
    "    f = open(\"raj.txt\" , \"r\")\n",
    "except Exception as e:\n",
    "    print(e)\n",
    "    \n",
    "# Here we are getting as error as raj.txt doesnt even exist and we have tried to read it  and we have tried to handel it with the except block.\n",
    "# Here we will not get any type of compliant just it will tell us that this error is there."
   ]
  },
  {
   "cell_type": "code",
   "execution_count": 8,
   "id": "667b69b9",
   "metadata": {},
   "outputs": [
    {
     "ename": "FileNotFoundError",
     "evalue": "[Errno 2] No such file or directory: 'raj.txt'",
     "output_type": "error",
     "traceback": [
      "\u001b[1;31m---------------------------------------------------------------------------\u001b[0m",
      "\u001b[1;31mFileNotFoundError\u001b[0m                         Traceback (most recent call last)",
      "\u001b[1;32m~\\AppData\\Local\\Temp/ipykernel_14856/794262283.py\u001b[0m in \u001b[0;36m<module>\u001b[1;34m\u001b[0m\n\u001b[1;32m----> 1\u001b[1;33m \u001b[0mf\u001b[0m \u001b[1;33m=\u001b[0m \u001b[0mopen\u001b[0m\u001b[1;33m(\u001b[0m\u001b[1;34m\"raj.txt\"\u001b[0m \u001b[1;33m,\u001b[0m \u001b[1;34m\"r\"\u001b[0m\u001b[1;33m)\u001b[0m\u001b[1;33m\u001b[0m\u001b[1;33m\u001b[0m\u001b[0m\n\u001b[0m\u001b[0;32m      2\u001b[0m \u001b[0mf\u001b[0m\u001b[1;33m.\u001b[0m\u001b[0mwrite\u001b[0m\u001b[1;33m(\u001b[0m\u001b[1;34m\"THis is code written in Exceptional Handling file\"\u001b[0m\u001b[1;33m)\u001b[0m\u001b[1;33m\u001b[0m\u001b[1;33m\u001b[0m\u001b[0m\n",
      "\u001b[1;31mFileNotFoundError\u001b[0m: [Errno 2] No such file or directory: 'raj.txt'"
     ]
    }
   ],
   "source": [
    "f = open(\"raj.txt\" , \"r\")\n",
    "f.write(\"THis is code written in Exceptional Handling file\")"
   ]
  },
  {
   "cell_type": "code",
   "execution_count": 9,
   "id": "5e0a240a",
   "metadata": {},
   "outputs": [
    {
     "name": "stdout",
     "output_type": "stream",
     "text": [
      "[Errno 2] No such file or directory: 'raj.txt'\n",
      "This is 2nd line of code\n",
      "This concept is very imp\n"
     ]
    }
   ],
   "source": [
    "try:\n",
    "    f = open(\"raj.txt\" , \"r\")\n",
    "    f.write(\"This is code written in Exceptional Handling file\")\n",
    "except Exception as e:\n",
    "    print(e)\n",
    "    \n",
    "    print(\"This is 2nd line of code\")\n",
    "    print(\"This concept is very imp\")"
   ]
  },
  {
   "cell_type": "code",
   "execution_count": 10,
   "id": "0ee04c18",
   "metadata": {},
   "outputs": [
    {
     "name": "stdout",
     "output_type": "stream",
     "text": [
      "[Errno 2] No such file or directory: 'raj.txt'\n",
      "This concept is very imp\n",
      "Finally block executes all time, whether there is an error in code or not\n"
     ]
    }
   ],
   "source": [
    "try:\n",
    "    f = open(\"raj.txt\" , \"r\")\n",
    "    f.write(\"This is code written in Exceptional Handling file\")\n",
    "except Exception as e:\n",
    "    print(e)\n",
    "    print(\"This concept is very imp\")\n",
    "finally:\n",
    "    print(\"Finally block executes all time, whether there is an error in code or not\")"
   ]
  },
  {
   "cell_type": "code",
   "execution_count": 11,
   "id": "86c8d2c7",
   "metadata": {},
   "outputs": [
    {
     "name": "stdout",
     "output_type": "stream",
     "text": [
      "division by zero\n",
      "This is Finally Block Executed\n"
     ]
    }
   ],
   "source": [
    "# Finally block example\n",
    "\n",
    "try:\n",
    "    a =10\n",
    "    a/0\n",
    "except Exception as e:\n",
    "    print(e)\n",
    "finally:\n",
    "    print(\"This is Finally Block Executed\")\n",
    "    \n",
    "    \n",
    "# here there is an error in TRY block and we have handel it through Except bock and There is an error still the finally block has got executed."
   ]
  },
  {
   "cell_type": "code",
   "execution_count": 12,
   "id": "47e87615",
   "metadata": {},
   "outputs": [],
   "source": [
    "## New Example"
   ]
  },
  {
   "cell_type": "code",
   "execution_count": 13,
   "id": "0fb276d0",
   "metadata": {},
   "outputs": [
    {
     "name": "stdout",
     "output_type": "stream",
     "text": [
      "Please enter an Integer \n"
     ]
    },
    {
     "ename": "ValueError",
     "evalue": "invalid literal for int() with base 10: ''",
     "output_type": "error",
     "traceback": [
      "\u001b[1;31m---------------------------------------------------------------------------\u001b[0m",
      "\u001b[1;31mValueError\u001b[0m                                Traceback (most recent call last)",
      "\u001b[1;32m~\\AppData\\Local\\Temp/ipykernel_14856/4280514364.py\u001b[0m in \u001b[0;36m<module>\u001b[1;34m\u001b[0m\n\u001b[1;32m----> 1\u001b[1;33m \u001b[0mval\u001b[0m \u001b[1;33m=\u001b[0m \u001b[0mint\u001b[0m\u001b[1;33m(\u001b[0m\u001b[0minput\u001b[0m\u001b[1;33m(\u001b[0m\u001b[1;34m\"Please enter an Integer \"\u001b[0m\u001b[1;33m)\u001b[0m\u001b[1;33m)\u001b[0m\u001b[1;33m\u001b[0m\u001b[1;33m\u001b[0m\u001b[0m\n\u001b[0m",
      "\u001b[1;31mValueError\u001b[0m: invalid literal for int() with base 10: ''"
     ]
    }
   ],
   "source": [
    "val = int(input(\"Please enter an Integer \"))"
   ]
  },
  {
   "cell_type": "code",
   "execution_count": 2,
   "id": "7e882b6a",
   "metadata": {},
   "outputs": [],
   "source": [
    "def askint():\n",
    "    try:\n",
    "        val = int(input(\"Please enter an Integer : \"))\n",
    "    except:\n",
    "        print(\"No you have not entered an integer\")\n",
    "        try:\n",
    "            val = int(input(\"Please Enter an Integer: \"))\n",
    "        except:\n",
    "            print(\"We are able to handle your mistake second time\")\n",
    "    finally:\n",
    "        print(\"Finally It will be executed anyhow\")"
   ]
  },
  {
   "cell_type": "code",
   "execution_count": 3,
   "id": "9bb1c469",
   "metadata": {},
   "outputs": [
    {
     "name": "stdout",
     "output_type": "stream",
     "text": [
      "Please enter an Integer : da\n",
      "No you have not entered an integer\n",
      "Please Enter an Integer: 23\n",
      "Finally It will be executed anyhow\n"
     ]
    }
   ],
   "source": [
    "askint()"
   ]
  },
  {
   "cell_type": "code",
   "execution_count": 16,
   "id": "a6d1d107",
   "metadata": {},
   "outputs": [],
   "source": [
    "# Exampe 3: Now Modifiy a program such that keep on asking the user to enter the integer untill the user enters the integer\n",
    "# while True mean continue the loop forever\n",
    "def askint1():\n",
    "    while True:\n",
    "        \n",
    "        try:\n",
    "            val = int(input(\"Please Enter Integer : \"))\n",
    "            break\n",
    "            \n",
    "        except:\n",
    "            print(\"You have not entered an Integer \")\n",
    "            continue"
   ]
  },
  {
   "cell_type": "code",
   "execution_count": 17,
   "id": "1a102202",
   "metadata": {},
   "outputs": [
    {
     "name": "stdout",
     "output_type": "stream",
     "text": [
      "Please Enter Integer : addf\n",
      "You have not entered an Integer \n",
      "Please Enter Integer : 23sdfsf\n",
      "You have not entered an Integer \n",
      "Please Enter Integer : asdf\n",
      "You have not entered an Integer \n",
      "Please Enter Integer : asdf\n",
      "You have not entered an Integer \n",
      "Please Enter Integer : sdf\n",
      "You have not entered an Integer \n",
      "Please Enter Integer : 23421\n"
     ]
    }
   ],
   "source": [
    "askint1()"
   ]
  },
  {
   "cell_type": "code",
   "execution_count": null,
   "id": "48911e9d",
   "metadata": {},
   "outputs": [],
   "source": [
    "s"
   ]
  }
 ],
 "metadata": {
  "kernelspec": {
   "display_name": "Python 3 (ipykernel)",
   "language": "python",
   "name": "python3"
  },
  "language_info": {
   "codemirror_mode": {
    "name": "ipython",
    "version": 3
   },
   "file_extension": ".py",
   "mimetype": "text/x-python",
   "name": "python",
   "nbconvert_exporter": "python",
   "pygments_lexer": "ipython3",
   "version": "3.9.7"
  }
 },
 "nbformat": 4,
 "nbformat_minor": 5
}
