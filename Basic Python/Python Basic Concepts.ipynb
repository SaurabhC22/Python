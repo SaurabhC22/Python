{
 "cells": [
  {
   "cell_type": "markdown",
   "id": "da0fc953",
   "metadata": {},
   "source": [
    "# Basic Python\n"
   ]
  },
  {
   "cell_type": "code",
   "execution_count": null,
   "id": "9629ef42",
   "metadata": {},
   "outputs": [],
   "source": [
    "'''\n",
    "# Targets:\n",
    "# 1) Function -- lambda Function -- Iterators and Generators --- Exception Handling\n",
    "\n",
    "# 2) OOPS - Classes,Object,Method.Inhertaince,Polymorphism,Data Abstraction,Encapsuation (PRACTIISE IMP)\n",
    "\n",
    "# IMP Topics in Python: \n",
    "MYSQL(3)\n",
    "MONGODB(3)\n",
    "API(2)\n",
    "Projects:- \n",
    "Review Scrapper\n",
    "Image Scrapper\n",
    "\n",
    "'''"
   ]
  },
  {
   "cell_type": "code",
   "execution_count": 1,
   "id": "54a7f1f4",
   "metadata": {},
   "outputs": [
    {
     "name": "stdout",
     "output_type": "stream",
     "text": [
      "Hello World\n"
     ]
    }
   ],
   "source": [
    "print(\"Hello World\") "
   ]
  },
  {
   "cell_type": "code",
   "execution_count": 2,
   "id": "5e053d03",
   "metadata": {},
   "outputs": [
    {
     "data": {
      "text/plain": [
       "' Multiline comment  '"
      ]
     },
     "execution_count": 2,
     "metadata": {},
     "output_type": "execute_result"
    }
   ],
   "source": [
    "# Comment Python: THere are those lines which are ignore by the python interpretator.\n",
    " \n",
    "# is used for Single line Comment\n",
    "\"\"\" Multiline comment  \"\"\""
   ]
  },
  {
   "cell_type": "code",
   "execution_count": 3,
   "id": "cc2fb7e7",
   "metadata": {},
   "outputs": [],
   "source": [
    "# Escape Sequence Character\n",
    "\n",
    "# \\n :- It is new line character\n",
    "# \\t :- It gives space / Space Character\n",
    "    "
   ]
  },
  {
   "cell_type": "code",
   "execution_count": 4,
   "id": "c119f0e1",
   "metadata": {},
   "outputs": [
    {
     "name": "stdout",
     "output_type": "stream",
     "text": [
      "<class 'int'>\n",
      "<class 'float'>\n",
      "<class 'str'>\n"
     ]
    }
   ],
   "source": [
    "# Data Types\n",
    "\n",
    "# 1)  int :- Integer numbers (2,4,56,76)\n",
    "# 2)  float :- decimal numbers (2.3,4.56,7.89)\n",
    "# 3)  string :- a,b,c they aare also declare in \"\"\n",
    "a=5\n",
    "print(type(a))\n",
    "b=6.9\n",
    "print(type(b))\n",
    "c=\"Saurabh\"\n",
    "print(type(c))"
   ]
  },
  {
   "cell_type": "code",
   "execution_count": 3,
   "id": "be90b2d2",
   "metadata": {},
   "outputs": [
    {
     "name": "stdout",
     "output_type": "stream",
     "text": [
      "Enter your number : \n",
      "10\n",
      "Entered number is :  10\n"
     ]
    }
   ],
   "source": [
    "# User Input\n",
    "\n",
    "print(\"Enter your number : \")\n",
    "num = input()\n",
    "print(\"Entered number is : \",num)"
   ]
  },
  {
   "cell_type": "code",
   "execution_count": 6,
   "id": "a1f904f2",
   "metadata": {},
   "outputs": [
    {
     "name": "stdout",
     "output_type": "stream",
     "text": [
      "ENter 1st Number : \n",
      "5\n",
      "Enter 2nd Number : \n",
      "2\n",
      "Sum is : 7\n"
     ]
    }
   ],
   "source": [
    "# Addition of two numbers:\n",
    "print(\"ENter 1st Number : \")\n",
    "n1 = input()\n",
    "print(\"Enter 2nd Number : \")\n",
    "n2 = input()\n",
    "sum = int(n1) + int(n2)\n",
    "print(\"Sum is :\",sum)"
   ]
  },
  {
   "cell_type": "markdown",
   "id": "eda89594",
   "metadata": {},
   "source": [
    "# String Slicing"
   ]
  },
  {
   "cell_type": "code",
   "execution_count": 7,
   "id": "fa1fe58d",
   "metadata": {},
   "outputs": [
    {
     "name": "stdout",
     "output_type": "stream",
     "text": [
      "a\n",
      "Saurabh\n",
      "Suah\n",
      "ur\n"
     ]
    }
   ],
   "source": [
    "str = \"Saurabh\"\n",
    "\n",
    "print(str[4])   \n",
    "print(str[0:7])\n",
    "print(str[0:7:2])  # Here last index is skip index value 2 means skip by 1\n",
    "print(str[-5:-3])  # Negative slicing counts the index from backside of the string and it starts with 1,2,3,.."
   ]
  },
  {
   "cell_type": "markdown",
   "id": "fa77a445",
   "metadata": {},
   "source": [
    "# String Functions"
   ]
  },
  {
   "cell_type": "code",
   "execution_count": 5,
   "id": "4ee53f41",
   "metadata": {},
   "outputs": [
    {
     "name": "stdout",
     "output_type": "stream",
     "text": [
      "30\n",
      "saurabh studies in mit college\n",
      "SAURABH STUDIES IN MIT COLLEGE\n",
      "Saurabh studies in mit college\n",
      "False\n",
      "False\n",
      "False\n",
      "False\n",
      "False\n"
     ]
    }
   ],
   "source": [
    "mystr = \"Saurabh studies in MIT College\"\n",
    "print(mystr.__len__())                   #Returns the Length of character\n",
    "print(mystr.lower())                     #Returns True if all characters in the string are lower\n",
    "print(mystr.upper())                     #Returns string in the Upper case from\n",
    "print(mystr.capitalize())                #Converts the first chacarter is the capital form\n",
    "#print(mystr.count())                  #Returns the number of times a specified value occurs in a string\n",
    "print(mystr.endswith('s'))               #Returns true if the string ends with the specified value\n",
    "print(mystr.isalnum())                   #Returns True if all characters in the string are alphanumeric\n",
    "print(mystr.isalpha())                   #Returns True if all characters in the string are in the alphabet\n",
    "print(mystr.isdecimal())                 #Returns True if all characters in the string are decimals\n",
    "print(mystr.isdigit())                  #Returns True if all characters in the string are digits\n"
   ]
  },
  {
   "cell_type": "markdown",
   "id": "03c64f8c",
   "metadata": {},
   "source": [
    "# Data Structures"
   ]
  },
  {
   "cell_type": "code",
   "execution_count": 12,
   "id": "d351b85f",
   "metadata": {},
   "outputs": [],
   "source": [
    "# In time complexity order of n  always ignores constant number\n",
    "# like if we use 2 for loops\n",
    "# for():      #Its order of n is O(n)\n",
    "\n",
    "# for():      #Similarly For this for O(n)\n",
    "\n",
    "# Then total is o(n)+o(n)=2[O(n)] Then here 2 will be ingnore \n",
    "\n",
    "# 1) list 2)Tuple 3) Dictionary 4) Set\n",
    "\n",
    "\n",
    "\n",
    "# Big O notation: It is used to measure how running time or space requirements for your program grow as input size grows\n",
    "# As the input size grows the run time grows"
   ]
  },
  {
   "cell_type": "markdown",
   "id": "bc46f170",
   "metadata": {},
   "source": [
    "## 1) Lists"
   ]
  },
  {
   "cell_type": "code",
   "execution_count": 13,
   "id": "279bfbba",
   "metadata": {},
   "outputs": [
    {
     "data": {
      "text/plain": [
       "['saurabh', 'raj', 330, 7.5]"
      ]
     },
     "execution_count": 13,
     "metadata": {},
     "output_type": "execute_result"
    }
   ],
   "source": [
    "# Python list are containers used to store a list of values of any data type.\n",
    "# Lists can cotain various types of data types lie int,float, str etc...\n",
    "# VIMP : They are ordered/indexing and they are mutable/changeable and it also allows Duplicate values\n",
    "list1 = ['saurabh','raj', 330,7.5 ]\n",
    "list1"
   ]
  },
  {
   "cell_type": "code",
   "execution_count": 14,
   "id": "714c8adc",
   "metadata": {},
   "outputs": [
    {
     "name": "stdout",
     "output_type": "stream",
     "text": [
      "[1, 8, 4, 3, 15, 20, 25, 89, 65]\n",
      "[1, 3, 4, 8, 15, 20, 25, 65, 89]\n",
      "[89, 65, 25, 20, 15, 8, 4, 3, 1]\n",
      "1\n",
      "89\n",
      "[1, 2, 3, 6, 5, 4, 7]\n",
      "[1, 2, 3, 8, 6, 5, 4, 7]\n",
      "True\n"
     ]
    }
   ],
   "source": [
    "# List Methods\n",
    "\n",
    "l1=[1,8,4,3,15,20,25,89,65]       #l1 is a list\n",
    "print(l1)\n",
    "\n",
    "l1.sort()                 #It will all arrange in the asscending order\n",
    "print(l1)                 #l1 after sorting\n",
    "l1.reverse()              #It will reverse the string\n",
    "print(l1)                 #l1 after reversing all elements\n",
    "print(min(l1))            #It will show the minimum number in the list\n",
    "print(max(l1))            #It will show the maximum number in the list\n",
    "\n",
    "\n",
    "list1  =  [1,2,3,6,5,4]             #list1 is a list\n",
    "list1.append(7)                     #This will add 7 in the last of list\n",
    "print(list1)\n",
    "list1.insert(3,8)                   #This will add 8 at 3 index in list\n",
    "print(list1)\n",
    "list1.remove(1)                     #This will remove 1 from the list\n",
    "list1.pop(2)                        #This will delete and return index 2 value.\n",
    "list1.count(1)                       #This return the count of number that passed through the argument\n",
    "#list1,copy()                        #This will return a c#TUPLES IN PYTHON\n",
    "\n",
    "l2 = [3,4,7,8,606,70]\n",
    "print(7 in l2)  \n",
    "# Here the output is TRUE means it is searching for value 7 in l2 list"
   ]
  },
  {
   "cell_type": "markdown",
   "id": "e4ae01c5",
   "metadata": {},
   "source": [
    "## 2) Tuple"
   ]
  },
  {
   "cell_type": "code",
   "execution_count": 15,
   "id": "05a07dd4",
   "metadata": {},
   "outputs": [
    {
     "data": {
      "text/plain": [
       "(2,)"
      ]
     },
     "execution_count": 15,
     "metadata": {},
     "output_type": "execute_result"
    }
   ],
   "source": [
    "# Tuple: ordered,allow duplicate value,It is not changeble/immmutable \n",
    "# It is denoted by ()\n",
    "# Mutable means(can change ) and Immutable means(cannot change )\n",
    "# Tuple once defined can’t be changed i.e. its elements or values can’t be altered or manipulated.\n",
    "\n",
    "t1=(2,4,6,8)\n",
    "t1\n",
    "t2 =(2) \n",
    "t2\n",
    "t3 = (2,)       # To create the tuple of 1 element it is necesary to put comma after one element otherwise it does not consider as tupple\n",
    "t3"
   ]
  },
  {
   "cell_type": "markdown",
   "id": "102de10e",
   "metadata": {},
   "source": [
    "## 3) Dictionary"
   ]
  },
  {
   "cell_type": "code",
   "execution_count": 16,
   "id": "9aaa2213",
   "metadata": {},
   "outputs": [
    {
     "name": "stdout",
     "output_type": "stream",
     "text": [
      "{'a': 5, 'b': 10}\n",
      "{'B': 'maggie', 'L': 'roti', 'D': 'Chicken'}\n",
      "maggie\n",
      "{'Jack': 'Dog', 'Kitu': 'Kitten'}\n",
      "{'Jack': 'Dog'}\n",
      "{'Jack': 'Dog', 'Bob': 'JermanShefard'}\n",
      "dict_keys(['Jack', 'Bob'])\n",
      "dict_values(['Dog', 'JermanShefard'])\n"
     ]
    }
   ],
   "source": [
    "# Dictionaries :- They are ordered, changeable and does  not allow duplicates and denoted by {}\n",
    "# Dictionaries are made on Key - Value Pairs\n",
    "d1 = {\"a\":5,\n",
    "     \"b\":10}\n",
    "print(d1)\n",
    "\n",
    "#Dictionary in dictionary example\n",
    "d3 = {\"Shubham\":{\"B\":\"maggie\", \"L\":\"roti\", \"D\":\"Chicken\"}}\n",
    "print(d3[\"Shubham\"])\n",
    "print(d3[\"Shubham\"]['B'])\n",
    "\n",
    "d2 = {\"Jack\":\"Dog\",\"Kitu\":\"Kitten\"}\n",
    "print(d2)\n",
    "\n",
    "#To delete item from the lis or dictionary\n",
    "del d2[\"Kitu\"]\n",
    "print(d2)\n",
    "\n",
    "#TO add the item in the dictionary\n",
    "d2.update({\"Bob\":\"JermanShefard\"})\n",
    "print(d2)\n",
    "\n",
    "\n",
    "print(d2.keys())\n",
    "print(d2.values())"
   ]
  },
  {
   "cell_type": "markdown",
   "id": "5564948f",
   "metadata": {},
   "source": [
    "## 4)Sets"
   ]
  },
  {
   "cell_type": "code",
   "execution_count": 17,
   "id": "790ab761",
   "metadata": {},
   "outputs": [
    {
     "name": "stdout",
     "output_type": "stream",
     "text": [
      "<class 'set'>\n"
     ]
    }
   ],
   "source": [
    "# A set is a data structure, having unordered, unique, and unindexed elements.”\n",
    "s = set()\n",
    "print(type(s))"
   ]
  },
  {
   "cell_type": "code",
   "execution_count": 18,
   "id": "977206e2",
   "metadata": {},
   "outputs": [
    {
     "name": "stdout",
     "output_type": "stream",
     "text": [
      "{8, 2, 4, 6}\n",
      "{1, 2, 4, 6, 8}\n",
      "{1, 2, 4, 6, 8}\n",
      "5\n",
      "1\n",
      "8\n",
      "{1, 4, 6, 8}\n"
     ]
    }
   ],
   "source": [
    "s1 = set([2,4,6,8])\n",
    "print(s1)\n",
    "\n",
    "s1.add(1)\n",
    "print(s1)\n",
    "\n",
    "s1.add(2)\n",
    "print(s1)\n",
    "\n",
    "# Hence in Sets....repetation of the elements are not allowed\n",
    "\n",
    "print(len(s1))\n",
    "print(min(s1))\n",
    "print(max(s1))\n",
    "s1.remove(2)\n",
    "print(s1)"
   ]
  },
  {
   "cell_type": "markdown",
   "id": "902b01c8",
   "metadata": {},
   "source": [
    "## Conditional Statements"
   ]
  },
  {
   "cell_type": "code",
   "execution_count": 19,
   "id": "a293a32f",
   "metadata": {},
   "outputs": [
    {
     "name": "stdout",
     "output_type": "stream",
     "text": [
      "Enter a:\n",
      "6\n",
      "Enter b:\n",
      "6\n",
      "Both are equal\n"
     ]
    }
   ],
   "source": [
    "print(\"Enter a:\")\n",
    "a = input()\n",
    "print(\"Enter b:\")\n",
    "b = input()\n",
    "if a>b:\n",
    "    print('A is greater')\n",
    "elif b>a:\n",
    "    print('B is greater')\n",
    "else:\n",
    "    print('Both are equal')"
   ]
  },
  {
   "cell_type": "markdown",
   "id": "ce78ea6c",
   "metadata": {},
   "source": [
    "## Loops"
   ]
  },
  {
   "cell_type": "code",
   "execution_count": 20,
   "id": "804489b6",
   "metadata": {},
   "outputs": [
    {
     "name": "stdout",
     "output_type": "stream",
     "text": [
      "10\n",
      "20\n",
      "30\n",
      "40\n",
      "50\n",
      "60\n",
      "Hello\n"
     ]
    }
   ],
   "source": [
    "#1) For loop\n",
    "\n",
    "list = [10,20,30,40,50,60]\n",
    "for i in list:\n",
    "    print(i)\n",
    "    \n",
    "for i in range(0,3):\n",
    "    if i == 4:\n",
    "        print('THis is the fourth value')\n",
    "print(\"Hello\")"
   ]
  },
  {
   "cell_type": "code",
   "execution_count": 1,
   "id": "c23cbe90",
   "metadata": {},
   "outputs": [
    {
     "name": "stdout",
     "output_type": "stream",
     "text": [
      "enter a\n",
      "5\n",
      "enter b\n",
      "9\n",
      "B is greater than A\n"
     ]
    }
   ],
   "source": [
    "# Writing if else in one statement\n",
    "a = int(input(\"enter a\\n\"))\n",
    "b = int(input(\"enter b\\n\"))\n",
    "\n",
    "print(\"A is greater than B\") if a>b else print(\"B is greater than A\")\n"
   ]
  },
  {
   "cell_type": "code",
   "execution_count": 21,
   "id": "dc3bfeb3",
   "metadata": {},
   "outputs": [],
   "source": [
    "#2) While Loop\n"
   ]
  },
  {
   "cell_type": "code",
   "execution_count": 22,
   "id": "24a275e7",
   "metadata": {},
   "outputs": [],
   "source": [
    "#3) Do While loop\n"
   ]
  },
  {
   "cell_type": "markdown",
   "id": "40f4155d",
   "metadata": {},
   "source": [
    "### Break and Continue"
   ]
  },
  {
   "cell_type": "code",
   "execution_count": 23,
   "id": "18bfd0b9",
   "metadata": {},
   "outputs": [
    {
     "name": "stdout",
     "output_type": "stream",
     "text": [
      "Enter a Number\n",
      "102\n",
      "Congrats you have entered a number greater than 100\n",
      "\n"
     ]
    }
   ],
   "source": [
    "while(True):\n",
    "    inp = int(input(\"Enter a Number\\n\"))\n",
    "    if inp>100:\n",
    "        print(\"Congrats you have entered a number greater than 100\\n\")\n",
    "        break\n",
    "    else:\n",
    "        print(\"Try again!\\n\")\n",
    "        continue"
   ]
  },
  {
   "cell_type": "markdown",
   "id": "5d4dcbe4",
   "metadata": {},
   "source": [
    "# Operators"
   ]
  },
  {
   "cell_type": "markdown",
   "id": "3bdd533f",
   "metadata": {},
   "source": [
    "### 1) Arithmetic operator"
   ]
  },
  {
   "cell_type": "code",
   "execution_count": 24,
   "id": "bf289878",
   "metadata": {},
   "outputs": [
    {
     "name": "stdout",
     "output_type": "stream",
     "text": [
      "5 + 6 is  11\n",
      "5 - 6 is  -1\n",
      "5 * 6 is  30\n",
      "5 / 6 is  0.8333333333333334\n",
      "5 ** 3 is  125\n",
      "5 % 5 is  0\n",
      "15 // 6 is  2\n"
     ]
    }
   ],
   "source": [
    "print(\"5 + 6 is \", 5+6)\n",
    "print(\"5 - 6 is \", 5-6)\n",
    "print(\"5 * 6 is \", 5*6)\n",
    "print(\"5 / 6 is \", 5/6)\n",
    "print(\"5 ** 3 is \", 5**3)                    # ** operator is exponential operator It means 5 raised to power 3 answer will be displayed\n",
    "print(\"5 % 5 is \", 5%5)                      # % modulus operator will give us the remainder as a answer\n",
    "print(\"15 // 6 is \", 15//6)\n"
   ]
  },
  {
   "cell_type": "markdown",
   "id": "349a5560",
   "metadata": {},
   "source": [
    "### 2) Assignment Operator"
   ]
  },
  {
   "cell_type": "code",
   "execution_count": 26,
   "id": "fe003309",
   "metadata": {},
   "outputs": [
    {
     "name": "stdout",
     "output_type": "stream",
     "text": [
      "5\n",
      "12\n",
      "5\n",
      "0.7142857142857143\n",
      "0.7142857142857143\n"
     ]
    }
   ],
   "source": [
    "x = 5\n",
    "print(x)\n",
    "x += 7                   #It will add 7 to the value of x\n",
    "print(x)\n",
    "x -= 7                   #It will subtract 7 from  the value of x\n",
    "print(x)\n",
    "x /= 7                   #It will divide 7 with the value of x\n",
    "print(x)\n",
    "x %=7 # x = x%7\n",
    "print(x)\n"
   ]
  },
  {
   "cell_type": "markdown",
   "id": "ae722c16",
   "metadata": {},
   "source": [
    "### 3) Comparision Operator"
   ]
  },
  {
   "cell_type": "code",
   "execution_count": null,
   "id": "ea339da0",
   "metadata": {},
   "outputs": [],
   "source": [
    "#comparison operators include ==, >, < , >=,etc\n",
    "i = 5\n",
    "print(i == 5)     #Output will be True\n",
    "print(i != 5)     #Output will be False\n",
    "print(i > 5)     #Output will be False\n",
    "print(i >= 5)     #Output will be True\n",
    "print(i < 5)     #Output will be False\n",
    "print(i <= 5)     #Output will be True\n"
   ]
  },
  {
   "cell_type": "markdown",
   "id": "0948018c",
   "metadata": {},
   "source": [
    "### 4) Logical Operator"
   ]
  },
  {
   "cell_type": "code",
   "execution_count": null,
   "id": "4e29b778",
   "metadata": {},
   "outputs": [],
   "source": [
    "# Logical operators perform logical AND(t t = t), OR(f f =f) and NOT, operations.\n",
    "a = True\n",
    "b = False\n",
    "\n",
    "print(a and a)             #Outuput is True because TRUE and TRUE = TRUE\n",
    "print(a and b)             #Output is False because TRUE and FALSE = FALSE\n",
    "print(a or a)              #Output is True because TRUE TRUE = TRUE\n",
    "print(b or b)              #Output is False because FALSE FALSE = FALSE\n",
    "print(a or b)              #output is True because TRUE or FALSE = TRUE\n"
   ]
  },
  {
   "cell_type": "markdown",
   "id": "23ce1a1a",
   "metadata": {},
   "source": [
    "### 5) Bitwise Operator"
   ]
  },
  {
   "cell_type": "code",
   "execution_count": 1,
   "id": "61fde6ae",
   "metadata": {},
   "outputs": [],
   "source": [
    "# 0 and 1\n",
    "# 00, 01 , 10 , 11"
   ]
  },
  {
   "cell_type": "markdown",
   "id": "acea5f1f",
   "metadata": {},
   "source": [
    "# Functions"
   ]
  },
  {
   "cell_type": "code",
   "execution_count": 2,
   "id": "12f1de66",
   "metadata": {},
   "outputs": [
    {
     "data": {
      "text/plain": [
       "'\\nThere are two types of Function:\\n1) User Defined Function\\n2) Built in Function\\n'"
      ]
     },
     "execution_count": 2,
     "metadata": {},
     "output_type": "execute_result"
    }
   ],
   "source": [
    "There are two types of Function:\n",
    "1) User Defined Function\n",
    "2) Built in Function"
   ]
  },
  {
   "cell_type": "code",
   "execution_count": 3,
   "id": "2492a54a",
   "metadata": {},
   "outputs": [],
   "source": [
    "# 1) Bulit-in functions \n",
    "\n",
    "# These functions are already build or programed by python developers and there are total 68 built in functions\n",
    "# Built-in Fn : int(),sum(),print(),len(),list(),etc"
   ]
  },
  {
   "cell_type": "code",
   "execution_count": 5,
   "id": "555fdf9b",
   "metadata": {},
   "outputs": [
    {
     "name": "stdout",
     "output_type": "stream",
     "text": [
      "This is first user defined fuction\n"
     ]
    }
   ],
   "source": [
    "# 2) User Defined Function\n",
    "\n",
    "def func1():                # Defining a function\n",
    "    print('This is first user defined fuction')\n",
    "func1()                     # Calling a function"
   ]
  },
  {
   "cell_type": "code",
   "execution_count": 8,
   "id": "095b77aa",
   "metadata": {},
   "outputs": [
    {
     "data": {
      "text/plain": [
       "12"
      ]
     },
     "execution_count": 8,
     "metadata": {},
     "output_type": "execute_result"
    }
   ],
   "source": [
    "def funct(a,b):\n",
    "    \n",
    "    return a*b\n",
    "funct(3,4)"
   ]
  },
  {
   "cell_type": "code",
   "execution_count": 6,
   "id": "6972cfd5",
   "metadata": {},
   "outputs": [
    {
     "name": "stdout",
     "output_type": "stream",
     "text": [
      "Average of two numbers\n",
      "23.0\n",
      "This is a function of finding average of two numbers\n"
     ]
    }
   ],
   "source": [
    "#How to take inputs in function\n",
    "def func2(a,b):\n",
    "    \"\"\"This is a function of finding average of two numbers\"\"\"       #This is not an comment. This is a docstring\n",
    "    print(\"Average of two numbers\")\n",
    "    average = (a+b)/2\n",
    "    print(average)\n",
    "    return  average\n",
    "\n",
    "func2(31,15)       \n",
    "print(func2.__doc__)"
   ]
  },
  {
   "cell_type": "markdown",
   "id": "804873b9",
   "metadata": {},
   "source": [
    "## Lambda Function"
   ]
  },
  {
   "cell_type": "code",
   "execution_count": null,
   "id": "a0de1273",
   "metadata": {},
   "outputs": [],
   "source": [
    "# Lambda Function is also caled as Anonymous Functions\n",
    "# It is a function with noo name"
   ]
  },
  {
   "cell_type": "code",
   "execution_count": 4,
   "id": "e5b1ab99",
   "metadata": {},
   "outputs": [
    {
     "data": {
      "text/plain": [
       "9"
      ]
     },
     "execution_count": 4,
     "metadata": {},
     "output_type": "execute_result"
    }
   ],
   "source": [
    "def add(a,b):\n",
    "    return a+b\n",
    "\n",
    "add(5,4)"
   ]
  },
  {
   "cell_type": "code",
   "execution_count": null,
   "id": "fbf47e4f",
   "metadata": {},
   "outputs": [],
   "source": [
    "# IF we have a single expression in a function then we can convert it into Lambda Function"
   ]
  },
  {
   "cell_type": "code",
   "execution_count": 5,
   "id": "a938236e",
   "metadata": {},
   "outputs": [],
   "source": [
    "# How can we write the lambda function\n",
    "# Stored in Variable = lambda(key word)  [Variables] : [Operations]\n",
    "# Variable is called with the inputs\n",
    "\n",
    "addition = lambda a,b:a+b"
   ]
  },
  {
   "cell_type": "code",
   "execution_count": 6,
   "id": "8de3578c",
   "metadata": {},
   "outputs": [
    {
     "data": {
      "text/plain": [
       "22"
      ]
     },
     "execution_count": 6,
     "metadata": {},
     "output_type": "execute_result"
    }
   ],
   "source": [
    "addition(10,12)"
   ]
  },
  {
   "cell_type": "code",
   "execution_count": 7,
   "id": "4ff21c19",
   "metadata": {},
   "outputs": [
    {
     "data": {
      "text/plain": [
       "True"
      ]
     },
     "execution_count": 7,
     "metadata": {},
     "output_type": "execute_result"
    }
   ],
   "source": [
    "# Example 2\n",
    "def even(num):\n",
    "    if num%2==0:\n",
    "        return True\n",
    "    \n",
    "even(20)"
   ]
  },
  {
   "cell_type": "code",
   "execution_count": 8,
   "id": "abd6aca9",
   "metadata": {},
   "outputs": [],
   "source": [
    "# Ex 2\n",
    "even = lambda num : num%2==0 "
   ]
  },
  {
   "cell_type": "code",
   "execution_count": 9,
   "id": "a936c623",
   "metadata": {},
   "outputs": [
    {
     "data": {
      "text/plain": [
       "True"
      ]
     },
     "execution_count": 9,
     "metadata": {},
     "output_type": "execute_result"
    }
   ],
   "source": [
    "even(10)"
   ]
  },
  {
   "cell_type": "code",
   "execution_count": 10,
   "id": "27655cd4",
   "metadata": {},
   "outputs": [
    {
     "data": {
      "text/plain": [
       "6"
      ]
     },
     "execution_count": 10,
     "metadata": {},
     "output_type": "execute_result"
    }
   ],
   "source": [
    "# Exampple 3:\n",
    "\n",
    "def add(a,b,c):\n",
    "    return a+b+c\n",
    "\n",
    "add(1,2,3)"
   ]
  },
  {
   "cell_type": "code",
   "execution_count": 11,
   "id": "8f3099bc",
   "metadata": {},
   "outputs": [],
   "source": [
    "add = lambda a,b,c : a+b+c"
   ]
  },
  {
   "cell_type": "code",
   "execution_count": 12,
   "id": "e644419f",
   "metadata": {},
   "outputs": [
    {
     "data": {
      "text/plain": [
       "6"
      ]
     },
     "execution_count": 12,
     "metadata": {},
     "output_type": "execute_result"
    }
   ],
   "source": [
    "add(1,2,3)"
   ]
  },
  {
   "cell_type": "code",
   "execution_count": null,
   "id": "3e10ed4e",
   "metadata": {},
   "outputs": [],
   "source": [
    "# IF WE HAVE ONLY ONE SINGLE FUNCTION    THEN ONLY WE CAN CONVERT INTO INTO LAMBDA FUNTION."
   ]
  },
  {
   "cell_type": "markdown",
   "id": "a4381d5e",
   "metadata": {},
   "source": [
    "## Iterable VS Iterators"
   ]
  },
  {
   "cell_type": "code",
   "execution_count": 13,
   "id": "a20915ca",
   "metadata": {},
   "outputs": [
    {
     "name": "stdout",
     "output_type": "stream",
     "text": [
      "1\n",
      "2\n",
      "3\n",
      "4\n",
      "5\n",
      "6\n",
      "7\n"
     ]
    }
   ],
   "source": [
    "# List is an Iterable \n",
    "\n",
    "# here iterating means we are iterating through Memory Allocation because these lst are store in Memory allocation\n",
    "\n",
    "lst = [1,2,3,4,5,6,7]\n",
    "\n",
    "for i in lst:\n",
    "    print(i)"
   ]
  },
  {
   "cell_type": "code",
   "execution_count": null,
   "id": "bd0bb055",
   "metadata": {},
   "outputs": [],
   "source": [
    "# Inbuit Function: iter()"
   ]
  },
  {
   "cell_type": "code",
   "execution_count": 15,
   "id": "566d13ae",
   "metadata": {},
   "outputs": [],
   "source": [
    "lst1 = iter(lst)"
   ]
  },
  {
   "cell_type": "code",
   "execution_count": 16,
   "id": "1e247bb1",
   "metadata": {},
   "outputs": [
    {
     "data": {
      "text/plain": [
       "<list_iterator at 0x24e46acedf0>"
      ]
     },
     "execution_count": 16,
     "metadata": {},
     "output_type": "execute_result"
    }
   ],
   "source": [
    "lst1"
   ]
  },
  {
   "cell_type": "code",
   "execution_count": null,
   "id": "c0845dfb",
   "metadata": {},
   "outputs": [],
   "source": [
    "# If we convert list into an Iterator then all the values are not initalized in the memory. To Initalize the values in memory we have to use next() for initailzing the values"
   ]
  },
  {
   "cell_type": "code",
   "execution_count": 17,
   "id": "8b93aea0",
   "metadata": {},
   "outputs": [
    {
     "data": {
      "text/plain": [
       "1"
      ]
     },
     "execution_count": 17,
     "metadata": {},
     "output_type": "execute_result"
    }
   ],
   "source": [
    "next(lst1)"
   ]
  },
  {
   "cell_type": "code",
   "execution_count": 18,
   "id": "f0682e7f",
   "metadata": {},
   "outputs": [
    {
     "data": {
      "text/plain": [
       "2"
      ]
     },
     "execution_count": 18,
     "metadata": {},
     "output_type": "execute_result"
    }
   ],
   "source": [
    "next(lst1)"
   ]
  },
  {
   "cell_type": "code",
   "execution_count": 19,
   "id": "d8593b08",
   "metadata": {},
   "outputs": [
    {
     "data": {
      "text/plain": [
       "3"
      ]
     },
     "execution_count": 19,
     "metadata": {},
     "output_type": "execute_result"
    }
   ],
   "source": [
    "next(lst1)"
   ]
  },
  {
   "cell_type": "code",
   "execution_count": null,
   "id": "7190c6f0",
   "metadata": {},
   "outputs": [],
   "source": [
    "# In case of iter -- The vaues are initalized One By One"
   ]
  },
  {
   "cell_type": "code",
   "execution_count": null,
   "id": "7d769dca",
   "metadata": {},
   "outputs": [],
   "source": []
  },
  {
   "cell_type": "code",
   "execution_count": null,
   "id": "fc2bb3e6",
   "metadata": {},
   "outputs": [],
   "source": []
  },
  {
   "cell_type": "markdown",
   "id": "4a2856c7",
   "metadata": {},
   "source": [
    "## Iterator  And Generator"
   ]
  },
  {
   "cell_type": "code",
   "execution_count": null,
   "id": "aeff766b",
   "metadata": {},
   "outputs": [],
   "source": [
    "## Iterable is perform on the colection\n",
    "\n",
    "# Iter is executed with the help of iter() keyword\n",
    "\n",
    "# So The Object or dataset which are Iterable those we can convert it into Iterator and then the next function is able to extarct the dtata one by one."
   ]
  },
  {
   "cell_type": "code",
   "execution_count": 20,
   "id": "fb2c7dd7",
   "metadata": {},
   "outputs": [
    {
     "name": "stdout",
     "output_type": "stream",
     "text": [
      "1\n",
      "2\n",
      "3\n",
      "4\n",
      "5\n"
     ]
    }
   ],
   "source": [
    "l = [1,2,3,4,5]\n",
    "for i in l:\n",
    "    print(i)\n",
    "    \n",
    "# Here we are able to print the output as The list objects  are by default iterable objects.\n",
    "# Here internally first it will stry to call the iter function and then it call  next function then we ablt to exract the data."
   ]
  },
  {
   "cell_type": "code",
   "execution_count": null,
   "id": "10f48ebc",
   "metadata": {},
   "outputs": [],
   "source": [
    "## Interview Question \n",
    "# How the for loop works:\n",
    "# --> If objects are iterable ,for loop tries to convert the all the objects into itertar and then it apply the next function on it and then it starts extracting the data."
   ]
  },
  {
   "cell_type": "code",
   "execution_count": 28,
   "id": "82fc3d6e",
   "metadata": {},
   "outputs": [
    {
     "ename": "TypeError",
     "evalue": "'str' object is not an iterator",
     "output_type": "error",
     "traceback": [
      "\u001b[1;31m---------------------------------------------------------------------------\u001b[0m",
      "\u001b[1;31mTypeError\u001b[0m                                 Traceback (most recent call last)",
      "\u001b[1;32m~\\AppData\\Local\\Temp/ipykernel_21404/3711152607.py\u001b[0m in \u001b[0;36m<module>\u001b[1;34m\u001b[0m\n\u001b[0;32m      1\u001b[0m \u001b[1;31m# How i want to extarct sudh from the string then\u001b[0m\u001b[1;33m\u001b[0m\u001b[1;33m\u001b[0m\u001b[0m\n\u001b[0;32m      2\u001b[0m \u001b[0ms\u001b[0m \u001b[1;33m=\u001b[0m \u001b[1;34m\"rajesh\"\u001b[0m\u001b[1;33m\u001b[0m\u001b[1;33m\u001b[0m\u001b[0m\n\u001b[1;32m----> 3\u001b[1;33m \u001b[0mnext\u001b[0m\u001b[1;33m(\u001b[0m\u001b[0ms\u001b[0m\u001b[1;33m)\u001b[0m\u001b[1;33m\u001b[0m\u001b[1;33m\u001b[0m\u001b[0m\n\u001b[0m",
      "\u001b[1;31mTypeError\u001b[0m: 'str' object is not an iterator"
     ]
    }
   ],
   "source": [
    "# How i want to extarct sudh from the string then\n",
    "s = \"rajesh\"\n",
    "next(s)\n"
   ]
  },
  {
   "cell_type": "code",
   "execution_count": 29,
   "id": "7aab9e41",
   "metadata": {},
   "outputs": [
    {
     "data": {
      "text/plain": [
       "'r'"
      ]
     },
     "execution_count": 29,
     "metadata": {},
     "output_type": "execute_result"
    }
   ],
   "source": [
    "# By default strings are not the iterator objects but they are iterable\n",
    "# So here 1st step is to convert string into iter and then use the next function\n",
    "#  this is the example of for loop\n",
    "s = iter(s)\n",
    "next(s)"
   ]
  },
  {
   "cell_type": "code",
   "execution_count": 30,
   "id": "a8f5c9b7",
   "metadata": {},
   "outputs": [
    {
     "data": {
      "text/plain": [
       "'a'"
      ]
     },
     "execution_count": 30,
     "metadata": {},
     "output_type": "execute_result"
    }
   ],
   "source": [
    "next(s)"
   ]
  },
  {
   "cell_type": "code",
   "execution_count": 31,
   "id": "8f9df748",
   "metadata": {},
   "outputs": [
    {
     "data": {
      "text/plain": [
       "'j'"
      ]
     },
     "execution_count": 31,
     "metadata": {},
     "output_type": "execute_result"
    }
   ],
   "source": [
    "next(s)"
   ]
  },
  {
   "cell_type": "code",
   "execution_count": 32,
   "id": "9853acdf",
   "metadata": {},
   "outputs": [
    {
     "data": {
      "text/plain": [
       "'e'"
      ]
     },
     "execution_count": 32,
     "metadata": {},
     "output_type": "execute_result"
    }
   ],
   "source": [
    "next(s)"
   ]
  },
  {
   "cell_type": "code",
   "execution_count": 33,
   "id": "87e55102",
   "metadata": {},
   "outputs": [
    {
     "data": {
      "text/plain": [
       "'s'"
      ]
     },
     "execution_count": 33,
     "metadata": {},
     "output_type": "execute_result"
    }
   ],
   "source": [
    "next(s)"
   ]
  },
  {
   "cell_type": "code",
   "execution_count": 34,
   "id": "1068b7ae",
   "metadata": {},
   "outputs": [
    {
     "data": {
      "text/plain": [
       "'h'"
      ]
     },
     "execution_count": 34,
     "metadata": {},
     "output_type": "execute_result"
    }
   ],
   "source": [
    "next(s)"
   ]
  },
  {
   "cell_type": "code",
   "execution_count": 35,
   "id": "6f257b87",
   "metadata": {},
   "outputs": [
    {
     "ename": "StopIteration",
     "evalue": "",
     "output_type": "error",
     "traceback": [
      "\u001b[1;31m---------------------------------------------------------------------------\u001b[0m",
      "\u001b[1;31mStopIteration\u001b[0m                             Traceback (most recent call last)",
      "\u001b[1;32m~\\AppData\\Local\\Temp/ipykernel_21404/1977886155.py\u001b[0m in \u001b[0;36m<module>\u001b[1;34m\u001b[0m\n\u001b[1;32m----> 1\u001b[1;33m \u001b[0mnext\u001b[0m\u001b[1;33m(\u001b[0m\u001b[0ms\u001b[0m\u001b[1;33m)\u001b[0m\u001b[1;33m\u001b[0m\u001b[1;33m\u001b[0m\u001b[0m\n\u001b[0m",
      "\u001b[1;31mStopIteration\u001b[0m: "
     ]
    }
   ],
   "source": [
    "next(s)"
   ]
  },
  {
   "cell_type": "code",
   "execution_count": 27,
   "id": "24309cbe",
   "metadata": {},
   "outputs": [
    {
     "name": "stdout",
     "output_type": "stream",
     "text": [
      "r\n",
      "a\n",
      "j\n"
     ]
    }
   ],
   "source": [
    "s = \"raj\"\n",
    "for i in s:\n",
    "    print(i)"
   ]
  },
  {
   "cell_type": "markdown",
   "id": "80e943fa",
   "metadata": {},
   "source": [
    "### Generators"
   ]
  },
  {
   "cell_type": "code",
   "execution_count": 37,
   "id": "d2334a04",
   "metadata": {},
   "outputs": [
    {
     "data": {
      "text/plain": [
       "[1, 2, 3, 4, 5, 6, 7, 8, 9]"
      ]
     },
     "execution_count": 37,
     "metadata": {},
     "output_type": "execute_result"
    }
   ],
   "source": [
    "list(range(1,10))"
   ]
  },
  {
   "cell_type": "code",
   "execution_count": 38,
   "id": "05e18526",
   "metadata": {},
   "outputs": [],
   "source": [
    "# Write a function to produce the square of  a numbers\n",
    "# I:4 O: 1,4,9,16\n",
    "\n",
    "def sq(n):\n",
    "    x = [i*i for i in range(n)]\n",
    "    return x"
   ]
  },
  {
   "cell_type": "code",
   "execution_count": 39,
   "id": "d1d406d3",
   "metadata": {},
   "outputs": [
    {
     "data": {
      "text/plain": [
       "[0, 1, 4, 9]"
      ]
     },
     "execution_count": 39,
     "metadata": {},
     "output_type": "execute_result"
    }
   ],
   "source": [
    "sq(4)"
   ]
  },
  {
   "cell_type": "code",
   "execution_count": 41,
   "id": "80da9445",
   "metadata": {},
   "outputs": [],
   "source": [
    "# Same example performing with Generators\n",
    "\n",
    "def sq(n):\n",
    "    x = [i*i for i in range(n)]\n",
    "    yield x"
   ]
  },
  {
   "cell_type": "code",
   "execution_count": 42,
   "id": "0b01d11a",
   "metadata": {},
   "outputs": [
    {
     "data": {
      "text/plain": [
       "<generator object sq at 0x0000024E46BC7B30>"
      ]
     },
     "execution_count": 42,
     "metadata": {},
     "output_type": "execute_result"
    }
   ],
   "source": [
    "sq(4)\n",
    "\n",
    "# Here we are able to generate the data"
   ]
  },
  {
   "cell_type": "code",
   "execution_count": 43,
   "id": "96c7f5a8",
   "metadata": {},
   "outputs": [
    {
     "name": "stdout",
     "output_type": "stream",
     "text": [
      "[0, 1, 4, 9]\n"
     ]
    }
   ],
   "source": [
    "for i in sq(4):\n",
    "    print(i)\n",
    "    \n",
    "# THIS TYPE OF FUNCTIONS ARE CALLED GENERATORS \n",
    "# Generators function are memory effiecent as they save llot of memmory while using the generators\n",
    "# and in normal function it will return a seq of items but before giving the result and it creates a sequence in memory which take sthe lot of space in memory.\n",
    "\n",
    "# Generator is basically used when we want to generate the data and not to return the data."
   ]
  },
  {
   "cell_type": "code",
   "execution_count": 44,
   "id": "be8524e5",
   "metadata": {},
   "outputs": [],
   "source": [
    "# Fibonaci Series : It is the sumision of the series of the number in which the addition of previous 2 number is the next number.\n",
    "#   1 1 2 3 5 8 13 21 34 55.."
   ]
  },
  {
   "cell_type": "code",
   "execution_count": 45,
   "id": "08ad677a",
   "metadata": {},
   "outputs": [],
   "source": [
    "def fib(n):\n",
    "    a = 1\n",
    "    b = 1\n",
    "    l = []\n",
    "    for i in range(n):\n",
    "        l.append(a)\n",
    "        a,b = b,a+b\n",
    "    return l"
   ]
  },
  {
   "cell_type": "code",
   "execution_count": 46,
   "id": "0d7558a3",
   "metadata": {},
   "outputs": [
    {
     "data": {
      "text/plain": [
       "[1, 1, 2, 3, 5]"
      ]
     },
     "execution_count": 46,
     "metadata": {},
     "output_type": "execute_result"
    }
   ],
   "source": [
    "fib(5)"
   ]
  },
  {
   "cell_type": "code",
   "execution_count": 47,
   "id": "a864ab5a",
   "metadata": {},
   "outputs": [
    {
     "data": {
      "text/plain": [
       "[1, 1, 2, 3, 5, 8, 13, 21, 34, 55]"
      ]
     },
     "execution_count": 47,
     "metadata": {},
     "output_type": "execute_result"
    }
   ],
   "source": [
    "fib(10)"
   ]
  },
  {
   "cell_type": "code",
   "execution_count": 53,
   "id": "933c84c8",
   "metadata": {},
   "outputs": [],
   "source": [
    "## Difference:- \n",
    "\n",
    "# 1- To create iterator we use iter() keyword  and To create generator we use fuction with yeild keyword\n",
    "# 2- Generator use the yeild keyword. It saves the local variables value and it can also return the value\n",
    "# 3- Generator in python helps us to write fast and compact code\n",
    "# 4- Python iterator is much more memory efficient."
   ]
  },
  {
   "cell_type": "markdown",
   "id": "ed711176",
   "metadata": {},
   "source": [
    "# Exceptional Handling"
   ]
  },
  {
   "cell_type": "code",
   "execution_count": 1,
   "id": "e23a85ec",
   "metadata": {},
   "outputs": [
    {
     "ename": "ZeroDivisionError",
     "evalue": "division by zero",
     "output_type": "error",
     "traceback": [
      "\u001b[1;31m---------------------------------------------------------------------------\u001b[0m",
      "\u001b[1;31mZeroDivisionError\u001b[0m                         Traceback (most recent call last)",
      "\u001b[1;32m~\\AppData\\Local\\Temp/ipykernel_18440/722170207.py\u001b[0m in \u001b[0;36m<module>\u001b[1;34m\u001b[0m\n\u001b[0;32m      1\u001b[0m \u001b[0ma\u001b[0m \u001b[1;33m=\u001b[0m \u001b[1;36m10\u001b[0m\u001b[1;33m\u001b[0m\u001b[1;33m\u001b[0m\u001b[0m\n\u001b[1;32m----> 2\u001b[1;33m \u001b[0ma\u001b[0m\u001b[1;33m/\u001b[0m\u001b[1;36m0\u001b[0m\u001b[1;33m\u001b[0m\u001b[1;33m\u001b[0m\u001b[0m\n\u001b[0m\u001b[0;32m      3\u001b[0m \u001b[1;33m\u001b[0m\u001b[0m\n\u001b[0;32m      4\u001b[0m \u001b[1;31m# Here we got an error we have to learn how to handel this type of error in real time\u001b[0m\u001b[1;33m\u001b[0m\u001b[1;33m\u001b[0m\u001b[0m\n",
      "\u001b[1;31mZeroDivisionError\u001b[0m: division by zero"
     ]
    }
   ],
   "source": [
    "a = 10\n",
    "a/0\n",
    "\n",
    "# Here we got an error we have to learn how to handel this type of error in real time"
   ]
  },
  {
   "cell_type": "code",
   "execution_count": 2,
   "id": "0dd5e0b1",
   "metadata": {},
   "outputs": [],
   "source": [
    "# Each amd every set or peice code should be wriiten with Exceptional Handling.\n",
    "# We should always write a code in try and except block."
   ]
  },
  {
   "cell_type": "code",
   "execution_count": 3,
   "id": "d33ec7f5",
   "metadata": {},
   "outputs": [
    {
     "ename": "FileNotFoundError",
     "evalue": "[Errno 2] No such file or directory: 'raj.txt'",
     "output_type": "error",
     "traceback": [
      "\u001b[1;31m---------------------------------------------------------------------------\u001b[0m",
      "\u001b[1;31mFileNotFoundError\u001b[0m                         Traceback (most recent call last)",
      "\u001b[1;32m~\\AppData\\Local\\Temp/ipykernel_18440/4267742798.py\u001b[0m in \u001b[0;36m<module>\u001b[1;34m\u001b[0m\n\u001b[1;32m----> 1\u001b[1;33m \u001b[0mf\u001b[0m \u001b[1;33m=\u001b[0m \u001b[0mopen\u001b[0m\u001b[1;33m(\u001b[0m\u001b[1;34m\"raj.txt\"\u001b[0m \u001b[1;33m,\u001b[0m \u001b[1;34m\"r\"\u001b[0m\u001b[1;33m)\u001b[0m\u001b[1;33m\u001b[0m\u001b[1;33m\u001b[0m\u001b[0m\n\u001b[0m\u001b[0;32m      2\u001b[0m \u001b[1;33m\u001b[0m\u001b[0m\n\u001b[0;32m      3\u001b[0m \u001b[0mprint\u001b[0m\u001b[1;33m(\u001b[0m\u001b[1;34m\"This is my code\"\u001b[0m\u001b[1;33m)\u001b[0m\u001b[1;33m\u001b[0m\u001b[1;33m\u001b[0m\u001b[0m\n",
      "\u001b[1;31mFileNotFoundError\u001b[0m: [Errno 2] No such file or directory: 'raj.txt'"
     ]
    }
   ],
   "source": [
    "f = open(\"raj.txt\" , \"r\")\n",
    "\n",
    "print(\"This is my code\")"
   ]
  },
  {
   "cell_type": "code",
   "execution_count": 4,
   "id": "f8468cfd",
   "metadata": {},
   "outputs": [],
   "source": [
    "# Here is the major problem is that after the error comes its stops all the exceution of other line of code below the Errored Line.\n",
    "# Now if i have written the 100 lines of code and the error comes in 50th line then the haf of my code wil not execute so to overcome this problem we use Exceptional Handling\n",
    "# Now to handle this type of error we hve try ,execpt ,finally and catch block"
   ]
  },
  {
   "cell_type": "code",
   "execution_count": 5,
   "id": "a4e22491",
   "metadata": {},
   "outputs": [
    {
     "name": "stdout",
     "output_type": "stream",
     "text": [
      "division by zero\n",
      "THis is final message\n"
     ]
    }
   ],
   "source": [
    "# Handling Eroor\n",
    "\n",
    "try:\n",
    "    a = 10\n",
    "    a/0\n",
    "except Exception as e:\n",
    "    print(e)\n",
    "    print(\"THis is final message\")\n",
    "    \n",
    "# Here we can see the error is present but the type of showing error is different and also the remaining lines which are correct are able tp execute"
   ]
  },
  {
   "cell_type": "code",
   "execution_count": 6,
   "id": "0c0db9ea",
   "metadata": {},
   "outputs": [],
   "source": [
    "try:\n",
    "    a=10\n",
    "    a/10\n",
    "except Exception as e:\n",
    "    print(e)\n",
    "    \n",
    "    \n",
    "# Here we are not getting any output because there is no error as the code in try block is valid"
   ]
  },
  {
   "cell_type": "code",
   "execution_count": 7,
   "id": "e5866194",
   "metadata": {},
   "outputs": [
    {
     "name": "stdout",
     "output_type": "stream",
     "text": [
      "[Errno 2] No such file or directory: 'raj.txt'\n"
     ]
    }
   ],
   "source": [
    "try:\n",
    "    f = open(\"raj.txt\" , \"r\")\n",
    "except Exception as e:\n",
    "    print(e)\n",
    "    \n",
    "# Here we are getting as error as raj.txt doesnt even exist and we have tried to read it  and we have tried to handel it with the except block.\n",
    "# Here we will not get any type of compliant just it will tell us that this error is there."
   ]
  },
  {
   "cell_type": "code",
   "execution_count": 8,
   "id": "65395ab6",
   "metadata": {},
   "outputs": [
    {
     "ename": "FileNotFoundError",
     "evalue": "[Errno 2] No such file or directory: 'raj.txt'",
     "output_type": "error",
     "traceback": [
      "\u001b[1;31m---------------------------------------------------------------------------\u001b[0m",
      "\u001b[1;31mFileNotFoundError\u001b[0m                         Traceback (most recent call last)",
      "\u001b[1;32m~\\AppData\\Local\\Temp/ipykernel_18440/794262283.py\u001b[0m in \u001b[0;36m<module>\u001b[1;34m\u001b[0m\n\u001b[1;32m----> 1\u001b[1;33m \u001b[0mf\u001b[0m \u001b[1;33m=\u001b[0m \u001b[0mopen\u001b[0m\u001b[1;33m(\u001b[0m\u001b[1;34m\"raj.txt\"\u001b[0m \u001b[1;33m,\u001b[0m \u001b[1;34m\"r\"\u001b[0m\u001b[1;33m)\u001b[0m\u001b[1;33m\u001b[0m\u001b[1;33m\u001b[0m\u001b[0m\n\u001b[0m\u001b[0;32m      2\u001b[0m \u001b[0mf\u001b[0m\u001b[1;33m.\u001b[0m\u001b[0mwrite\u001b[0m\u001b[1;33m(\u001b[0m\u001b[1;34m\"THis is code written in Exceptional Handling file\"\u001b[0m\u001b[1;33m)\u001b[0m\u001b[1;33m\u001b[0m\u001b[1;33m\u001b[0m\u001b[0m\n",
      "\u001b[1;31mFileNotFoundError\u001b[0m: [Errno 2] No such file or directory: 'raj.txt'"
     ]
    }
   ],
   "source": [
    "f = open(\"raj.txt\" , \"r\")\n",
    "f.write(\"THis is code written in Exceptional Handling file\")"
   ]
  },
  {
   "cell_type": "code",
   "execution_count": 9,
   "id": "d2439f2c",
   "metadata": {},
   "outputs": [
    {
     "name": "stdout",
     "output_type": "stream",
     "text": [
      "[Errno 2] No such file or directory: 'raj.txt'\n",
      "This is 2nd line of code\n",
      "This concept is very imp\n"
     ]
    }
   ],
   "source": [
    "try:\n",
    "    f = open(\"raj.txt\" , \"r\")\n",
    "    f.write(\"This is code written in Exceptional Handling file\")\n",
    "except Exception as e:\n",
    "    print(e)\n",
    "    \n",
    "    print(\"This is 2nd line of code\")\n",
    "    print(\"This concept is very imp\")"
   ]
  },
  {
   "cell_type": "markdown",
   "id": "d94ac690",
   "metadata": {},
   "source": [
    "# File Input Output"
   ]
  },
  {
   "cell_type": "code",
   "execution_count": 11,
   "id": "a1853a16",
   "metadata": {},
   "outputs": [],
   "source": [
    "# Modes of opening a file\n",
    "\n",
    "# r : r mode opens a file for read-only. We do not have permission to update or change any data in this mode.\n",
    "\n",
    "# w : w mode does not concern itself with what is present in the file.\n",
    "# It just opens a file for writing and if there is already some data present in the file, it overwrites it.\n",
    "\n",
    "# x : x is used to create a new file. It does not work for an already existing file, as in such cases the operation fails.\n",
    "\n",
    "# a : a stands for append, which means to add something to the end of the file. It does exactly the same. It just adds the data we like in write(w) mode but instead of overwriting it just adds it to the end of the file.\n",
    "#It also does not have the permission of reading the file.\n",
    "\n",
    "# t : t mode is used to open our file in text mode and only proper text files can be opened by it. It deals with the file data as a string.\n",
    "\n",
    "# b : b stands for binary and this mode can only open the binary files, that are read in bytes.\n",
    "# The binary files include images, documents, or all other files that require specific software to be read.\n",
    "\n",
    "# + : In plus mode, we can read and write a file simultaneously. The mode is mostly used in cases where we want to update our file.\n"
   ]
  },
  {
   "cell_type": "code",
   "execution_count": null,
   "id": "ff8883a2",
   "metadata": {},
   "outputs": [],
   "source": [
    "# Now if we want to Read the file:--\n",
    "\n",
    "f = open(\"File.txt\",\"r\")        #r is default mode Read in text\n",
    "content = f.read()\n",
    "print(content)"
   ]
  },
  {
   "cell_type": "code",
   "execution_count": 14,
   "id": "93a25fc4",
   "metadata": {},
   "outputs": [],
   "source": [
    "#Read line function\n",
    "\n",
    "f = open(\"File.txt\")          #This file should be there in the same folder of code file \n",
    "print(f.readline())           #This will only give first line of the content                              #If we print again\n",
    "print(f.readline())           #It will give second line of the content\n"
   ]
  },
  {
   "cell_type": "code",
   "execution_count": null,
   "id": "c44c25fc",
   "metadata": {},
   "outputs": [],
   "source": [
    "# how to write the content in the text file\n",
    "\n",
    "f = open(\"File2.txt\", \"w\")\n",
    "f.write(\"Saurabh is smart boy\")\n",
    "f.close()\n"
   ]
  },
  {
   "cell_type": "code",
   "execution_count": null,
   "id": "18ce8d49",
   "metadata": {},
   "outputs": [],
   "source": [
    "#Difference between Write mode and append mode ?\n",
    "\n",
    "# In write mode program says that write only this content in the txt file but in the\n",
    "# append mode it keeps the eariler content as it is and add the more content in it\n"
   ]
  }
 ],
 "metadata": {
  "kernelspec": {
   "display_name": "Python 3 (ipykernel)",
   "language": "python",
   "name": "python3"
  },
  "language_info": {
   "codemirror_mode": {
    "name": "ipython",
    "version": 3
   },
   "file_extension": ".py",
   "mimetype": "text/x-python",
   "name": "python",
   "nbconvert_exporter": "python",
   "pygments_lexer": "ipython3",
   "version": "3.9.7"
  }
 },
 "nbformat": 4,
 "nbformat_minor": 5
}
