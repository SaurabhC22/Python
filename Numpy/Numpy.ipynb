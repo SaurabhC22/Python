{
 "cells": [
  {
   "cell_type": "code",
   "execution_count": 1,
   "id": "bb2f5cf3",
   "metadata": {},
   "outputs": [],
   "source": [
    "import numpy as np\n",
    "import time\n",
    "import sys\n"
   ]
  },
  {
   "cell_type": "markdown",
   "id": "df356d11",
   "metadata": {},
   "source": [
    "# Now we will check why to use numpy array and not python list? \n",
    "### Because As Lists takes more memory and time to execute compare to nparray\n"
   ]
  },
  {
   "cell_type": "code",
   "execution_count": 2,
   "id": "e4b488d3",
   "metadata": {},
   "outputs": [
    {
     "name": "stdout",
     "output_type": "stream",
     "text": [
      "28000\n"
     ]
    }
   ],
   "source": [
    "#Memoery used in lists\n",
    "a=range(1000)\n",
    "print(sys.getsizeof(5)*len(a))\n",
    "\n",
    "#getsizeof('') empty string even takes 49bytes in the memory"
   ]
  },
  {
   "cell_type": "code",
   "execution_count": 3,
   "id": "6ce15ce9",
   "metadata": {},
   "outputs": [
    {
     "name": "stdout",
     "output_type": "stream",
     "text": [
      "4000\n"
     ]
    }
   ],
   "source": [
    "# Memory used in Np Array\n",
    "c= np.arange(1000)\n",
    "print(c.size * c.itemsize)"
   ]
  },
  {
   "cell_type": "markdown",
   "id": "88767374",
   "metadata": {},
   "source": [
    "# Finding size shape of an array"
   ]
  },
  {
   "cell_type": "code",
   "execution_count": 4,
   "id": "de01012d",
   "metadata": {},
   "outputs": [
    {
     "data": {
      "text/plain": [
       "array([[1, 2],\n",
       "       [3, 4],\n",
       "       [5, 6]])"
      ]
     },
     "execution_count": 4,
     "metadata": {},
     "output_type": "execute_result"
    }
   ],
   "source": [
    "a = np.array([[1,2],[3,4],[5,6]])\n",
    "a"
   ]
  },
  {
   "cell_type": "code",
   "execution_count": 5,
   "id": "6ca4759b",
   "metadata": {},
   "outputs": [
    {
     "data": {
      "text/plain": [
       "2"
      ]
     },
     "execution_count": 5,
     "metadata": {},
     "output_type": "execute_result"
    }
   ],
   "source": [
    "a.ndim\n"
   ]
  },
  {
   "cell_type": "code",
   "execution_count": 6,
   "id": "f0844c3b",
   "metadata": {},
   "outputs": [
    {
     "data": {
      "text/plain": [
       "4"
      ]
     },
     "execution_count": 6,
     "metadata": {},
     "output_type": "execute_result"
    }
   ],
   "source": [
    "a.itemsize"
   ]
  },
  {
   "cell_type": "code",
   "execution_count": 7,
   "id": "de493edb",
   "metadata": {},
   "outputs": [
    {
     "data": {
      "text/plain": [
       "(3, 2)"
      ]
     },
     "execution_count": 7,
     "metadata": {},
     "output_type": "execute_result"
    }
   ],
   "source": [
    "a.shape"
   ]
  },
  {
   "cell_type": "code",
   "execution_count": 8,
   "id": "99fafe5e",
   "metadata": {},
   "outputs": [],
   "source": [
    "l1 = [4,5,6,7,\"sam\",True,23.6] \n",
    "# Here the list contains mixed datatypes so converts al the data into string format"
   ]
  },
  {
   "cell_type": "code",
   "execution_count": 9,
   "id": "5b588db7",
   "metadata": {},
   "outputs": [
    {
     "data": {
      "text/plain": [
       "array(['4', '5', '6', '7', 'sam', 'True', '23.6'], dtype='<U32')"
      ]
     },
     "execution_count": 9,
     "metadata": {},
     "output_type": "execute_result"
    }
   ],
   "source": [
    "# 1d array\n",
    "a1 = np.array(l1)\n",
    "a1"
   ]
  },
  {
   "cell_type": "code",
   "execution_count": 10,
   "id": "62017ee9",
   "metadata": {},
   "outputs": [
    {
     "data": {
      "text/plain": [
       "array([[1, 2, 3],\n",
       "       [4, 5, 6]])"
      ]
     },
     "execution_count": 10,
     "metadata": {},
     "output_type": "execute_result"
    }
   ],
   "source": [
    "# 2d array\n",
    "a2 = np.array([[1,2,3] , [4,5,6]])\n",
    "a2"
   ]
  },
  {
   "cell_type": "code",
   "execution_count": 11,
   "id": "6c30348f",
   "metadata": {},
   "outputs": [
    {
     "data": {
      "text/plain": [
       "array([[[1, 2, 3],\n",
       "        [4, 5, 6],\n",
       "        [7, 8, 9]]])"
      ]
     },
     "execution_count": 11,
     "metadata": {},
     "output_type": "execute_result"
    }
   ],
   "source": [
    "# 3d array\n",
    "a3 = np.array([[[1,2,3] , [4,5,6] , [7,8,9]]])\n",
    "a3"
   ]
  },
  {
   "cell_type": "code",
   "execution_count": 82,
   "id": "d55dec8c",
   "metadata": {},
   "outputs": [
    {
     "data": {
      "text/plain": [
       "1"
      ]
     },
     "execution_count": 82,
     "metadata": {},
     "output_type": "execute_result"
    }
   ],
   "source": [
    "a1.ndim"
   ]
  },
  {
   "cell_type": "code",
   "execution_count": 83,
   "id": "d0c45943",
   "metadata": {},
   "outputs": [
    {
     "data": {
      "text/plain": [
       "7"
      ]
     },
     "execution_count": 83,
     "metadata": {},
     "output_type": "execute_result"
    }
   ],
   "source": [
    "a1.size"
   ]
  },
  {
   "cell_type": "code",
   "execution_count": 84,
   "id": "324b425c",
   "metadata": {},
   "outputs": [
    {
     "data": {
      "text/plain": [
       "(7,)"
      ]
     },
     "execution_count": 84,
     "metadata": {},
     "output_type": "execute_result"
    }
   ],
   "source": [
    "a1.shape"
   ]
  },
  {
   "cell_type": "code",
   "execution_count": 85,
   "id": "e1bf6601",
   "metadata": {},
   "outputs": [
    {
     "data": {
      "text/plain": [
       "2"
      ]
     },
     "execution_count": 85,
     "metadata": {},
     "output_type": "execute_result"
    }
   ],
   "source": [
    "a2.ndim"
   ]
  },
  {
   "cell_type": "code",
   "execution_count": 86,
   "id": "94eb04dd",
   "metadata": {},
   "outputs": [
    {
     "data": {
      "text/plain": [
       "6"
      ]
     },
     "execution_count": 86,
     "metadata": {},
     "output_type": "execute_result"
    }
   ],
   "source": [
    "a2.size"
   ]
  },
  {
   "cell_type": "code",
   "execution_count": 87,
   "id": "3b8c6ebc",
   "metadata": {},
   "outputs": [
    {
     "data": {
      "text/plain": [
       "(2, 3)"
      ]
     },
     "execution_count": 87,
     "metadata": {},
     "output_type": "execute_result"
    }
   ],
   "source": [
    "a2.shape"
   ]
  },
  {
   "cell_type": "code",
   "execution_count": null,
   "id": "c44c4aa0",
   "metadata": {},
   "outputs": [],
   "source": [
    "# Similarly for a3 and so o"
   ]
  },
  {
   "cell_type": "code",
   "execution_count": 106,
   "id": "7e7bced0",
   "metadata": {},
   "outputs": [],
   "source": [
    "a4 = np.random.rand(3,3)"
   ]
  },
  {
   "cell_type": "code",
   "execution_count": 107,
   "id": "81d5ea8e",
   "metadata": {},
   "outputs": [
    {
     "data": {
      "text/plain": [
       "array([[0.52188042, 0.31661692, 0.48721566],\n",
       "       [0.91603144, 0.02038125, 0.27050802],\n",
       "       [0.69023326, 0.56388135, 0.84993283]])"
      ]
     },
     "execution_count": 107,
     "metadata": {},
     "output_type": "execute_result"
    }
   ],
   "source": [
    "a4"
   ]
  },
  {
   "cell_type": "code",
   "execution_count": 109,
   "id": "645c6461",
   "metadata": {},
   "outputs": [
    {
     "data": {
      "text/plain": [
       "array([[0.52188042, 0.31661692, 0.48721566, 0.91603144, 0.02038125,\n",
       "        0.27050802, 0.69023326, 0.56388135, 0.84993283]])"
      ]
     },
     "execution_count": 109,
     "metadata": {},
     "output_type": "execute_result"
    }
   ],
   "source": [
    "a4.reshape(1,9)"
   ]
  },
  {
   "cell_type": "code",
   "execution_count": 110,
   "id": "10905e43",
   "metadata": {},
   "outputs": [],
   "source": [
    "a5 = np.random.rand(4,4)"
   ]
  },
  {
   "cell_type": "code",
   "execution_count": 111,
   "id": "d8fd60e2",
   "metadata": {},
   "outputs": [
    {
     "data": {
      "text/plain": [
       "array([[0.94145983, 0.77276913, 0.02126196, 0.81335837],\n",
       "       [0.84265027, 0.96235886, 0.33224559, 0.58480093],\n",
       "       [0.28080403, 0.13449339, 0.84472694, 0.1082    ],\n",
       "       [0.8028038 , 0.17579015, 0.66522187, 0.9507184 ]])"
      ]
     },
     "execution_count": 111,
     "metadata": {},
     "output_type": "execute_result"
    }
   ],
   "source": [
    "a5"
   ]
  },
  {
   "cell_type": "code",
   "execution_count": 112,
   "id": "76265d60",
   "metadata": {},
   "outputs": [
    {
     "data": {
      "text/plain": [
       "array([[0.94145983, 0.77276913, 0.02126196, 0.81335837, 0.84265027,\n",
       "        0.96235886, 0.33224559, 0.58480093],\n",
       "       [0.28080403, 0.13449339, 0.84472694, 0.1082    , 0.8028038 ,\n",
       "        0.17579015, 0.66522187, 0.9507184 ]])"
      ]
     },
     "execution_count": 112,
     "metadata": {},
     "output_type": "execute_result"
    }
   ],
   "source": [
    "a5.reshape(2,8)"
   ]
  },
  {
   "cell_type": "code",
   "execution_count": 113,
   "id": "f2bd987c",
   "metadata": {},
   "outputs": [
    {
     "data": {
      "text/plain": [
       "array([[0.94145983, 0.77276913, 0.02126196, 0.81335837, 0.84265027,\n",
       "        0.96235886, 0.33224559, 0.58480093, 0.28080403, 0.13449339,\n",
       "        0.84472694, 0.1082    , 0.8028038 , 0.17579015, 0.66522187,\n",
       "        0.9507184 ]])"
      ]
     },
     "execution_count": 113,
     "metadata": {},
     "output_type": "execute_result"
    }
   ],
   "source": [
    "a5.reshape(1,16)"
   ]
  },
  {
   "cell_type": "code",
   "execution_count": 114,
   "id": "610eaafb",
   "metadata": {},
   "outputs": [
    {
     "data": {
      "text/plain": [
       "array([[0.94145983],\n",
       "       [0.77276913],\n",
       "       [0.02126196],\n",
       "       [0.81335837],\n",
       "       [0.84265027],\n",
       "       [0.96235886],\n",
       "       [0.33224559],\n",
       "       [0.58480093],\n",
       "       [0.28080403],\n",
       "       [0.13449339],\n",
       "       [0.84472694],\n",
       "       [0.1082    ],\n",
       "       [0.8028038 ],\n",
       "       [0.17579015],\n",
       "       [0.66522187],\n",
       "       [0.9507184 ]])"
      ]
     },
     "execution_count": 114,
     "metadata": {},
     "output_type": "execute_result"
    }
   ],
   "source": [
    "a5.reshape(16,1)"
   ]
  },
  {
   "cell_type": "code",
   "execution_count": 115,
   "id": "ef81d70f",
   "metadata": {},
   "outputs": [
    {
     "data": {
      "text/plain": [
       "array([[0.94145983, 0.77276913, 0.02126196, 0.81335837, 0.84265027,\n",
       "        0.96235886, 0.33224559, 0.58480093],\n",
       "       [0.28080403, 0.13449339, 0.84472694, 0.1082    , 0.8028038 ,\n",
       "        0.17579015, 0.66522187, 0.9507184 ]])"
      ]
     },
     "execution_count": 115,
     "metadata": {},
     "output_type": "execute_result"
    }
   ],
   "source": [
    "a5.reshape(2,-1)\n",
    "\n",
    "# Here we have not got an error because 2 is the factorial of the total numbers and -1 automatic detects the shape of the number that can be created.\n",
    "# Here instead of 2 if we give the 3 the it wil give an error because 3 is not an factorial of 16"
   ]
  },
  {
   "cell_type": "code",
   "execution_count": 116,
   "id": "85c23f77",
   "metadata": {},
   "outputs": [
    {
     "data": {
      "text/plain": [
       "array([[[0.94145983, 0.77276913, 0.02126196, 0.81335837],\n",
       "        [0.84265027, 0.96235886, 0.33224559, 0.58480093]],\n",
       "\n",
       "       [[0.28080403, 0.13449339, 0.84472694, 0.1082    ],\n",
       "        [0.8028038 , 0.17579015, 0.66522187, 0.9507184 ]]])"
      ]
     },
     "execution_count": 116,
     "metadata": {},
     "output_type": "execute_result"
    }
   ],
   "source": [
    "# if we want to reshape in 3d\n",
    "    \n",
    "a5.reshape(2,2,4)"
   ]
  },
  {
   "cell_type": "markdown",
   "id": "51774d5e",
   "metadata": {},
   "source": [
    "## Random Integer\n"
   ]
  },
  {
   "cell_type": "code",
   "execution_count": 90,
   "id": "f2bac06c",
   "metadata": {},
   "outputs": [
    {
     "data": {
      "text/plain": [
       "2"
      ]
     },
     "execution_count": 90,
     "metadata": {},
     "output_type": "execute_result"
    }
   ],
   "source": [
    "np.random.randint(2,5)"
   ]
  },
  {
   "cell_type": "code",
   "execution_count": 98,
   "id": "f77db4d4",
   "metadata": {},
   "outputs": [
    {
     "data": {
      "text/plain": [
       "array([[0.97736216, 0.03815316, 0.0489448 , 0.26123153, 0.36339752]])"
      ]
     },
     "execution_count": 98,
     "metadata": {},
     "output_type": "execute_result"
    }
   ],
   "source": [
    "np.random.rand(1,5)"
   ]
  },
  {
   "cell_type": "code",
   "execution_count": 100,
   "id": "8d2d9049",
   "metadata": {},
   "outputs": [
    {
     "data": {
      "text/plain": [
       "array([[0.5584584 , 0.32443762, 0.4214454 , 0.56832104, 0.38390505],\n",
       "       [0.84782915, 0.17734152, 0.3523685 , 0.93950755, 0.88698096]])"
      ]
     },
     "execution_count": 100,
     "metadata": {},
     "output_type": "execute_result"
    }
   ],
   "source": [
    "np.random.rand(2,5)"
   ]
  },
  {
   "cell_type": "code",
   "execution_count": 103,
   "id": "133bb382",
   "metadata": {},
   "outputs": [
    {
     "data": {
      "text/plain": [
       "array([[0.10069516, 0.33075058, 0.37874572, 0.67704462],\n",
       "       [0.2850959 , 0.80232717, 0.1897007 , 0.96151272],\n",
       "       [0.92667594, 0.12139113, 0.8498424 , 0.31526348],\n",
       "       [0.63244798, 0.34968389, 0.36661343, 0.07120752]])"
      ]
     },
     "execution_count": 103,
     "metadata": {},
     "output_type": "execute_result"
    }
   ],
   "source": [
    "np.random.rand(4,4)"
   ]
  },
  {
   "cell_type": "code",
   "execution_count": 104,
   "id": "5c0903e3",
   "metadata": {},
   "outputs": [
    {
     "data": {
      "text/plain": [
       "array([[ 1.72923513, -1.56618789,  0.82822901, -0.03768097],\n",
       "       [ 2.29240006, -0.19875917,  0.74027651,  0.12877086],\n",
       "       [ 1.25936567, -1.38271393,  0.87460983,  0.37164193],\n",
       "       [ 0.50513744, -2.35820033, -2.18567763,  1.32374339]])"
      ]
     },
     "execution_count": 104,
     "metadata": {},
     "output_type": "execute_result"
    }
   ],
   "source": [
    "np.random.randn(4,4)"
   ]
  },
  {
   "cell_type": "code",
   "execution_count": null,
   "id": "18816215",
   "metadata": {},
   "outputs": [],
   "source": [
    "# Difference between rand and randn\n",
    "# A dataset which is having mean or avg = 0 or standard devation is  = 1 is caled as Normal Distribution.\n",
    "# THerefore rand generate the data of Normal Distribution\n",
    "# and randn functions any data will select it will tends towards to 0\n"
   ]
  },
  {
   "cell_type": "code",
   "execution_count": 101,
   "id": "3f8ba5d7",
   "metadata": {},
   "outputs": [
    {
     "data": {
      "text/plain": [
       "array([[33, 16, 31],\n",
       "       [33, 38, 19],\n",
       "       [42, 17, 45]])"
      ]
     },
     "execution_count": 101,
     "metadata": {},
     "output_type": "execute_result"
    }
   ],
   "source": [
    "# Random Number in specific Dimension\n",
    "# (3,3) is the shape in D\n",
    "\n",
    "np.random.randint(2,50 , (3,3))"
   ]
  },
  {
   "cell_type": "code",
   "execution_count": 102,
   "id": "c5a11f1d",
   "metadata": {},
   "outputs": [
    {
     "data": {
      "text/plain": [
       "array([[[39, 26, 22, 11],\n",
       "        [14, 13, 42, 45],\n",
       "        [15,  2, 49, 16]],\n",
       "\n",
       "       [[10, 36, 43, 11],\n",
       "        [39, 31, 27, 40],\n",
       "        [23, 20, 26, 38]]])"
      ]
     },
     "execution_count": 102,
     "metadata": {},
     "output_type": "execute_result"
    }
   ],
   "source": [
    "# Random number generting in 3d data\n",
    "# (2,3,4) it means 3*4 matrix and we have 2 such type of matrix\n",
    "\n",
    "np.random.randint(2,50, (2,3,4))"
   ]
  },
  {
   "cell_type": "code",
   "execution_count": null,
   "id": "6a35192b",
   "metadata": {},
   "outputs": [],
   "source": []
  },
  {
   "cell_type": "code",
   "execution_count": null,
   "id": "58841881",
   "metadata": {},
   "outputs": [],
   "source": []
  },
  {
   "cell_type": "code",
   "execution_count": null,
   "id": "5c12e0ac",
   "metadata": {},
   "outputs": [],
   "source": []
  },
  {
   "cell_type": "code",
   "execution_count": 12,
   "id": "5a58bbc5",
   "metadata": {},
   "outputs": [
    {
     "data": {
      "text/plain": [
       "array([[1., 2.],\n",
       "       [3., 4.],\n",
       "       [5., 6.]])"
      ]
     },
     "execution_count": 12,
     "metadata": {},
     "output_type": "execute_result"
    }
   ],
   "source": [
    "#Converting integer into float elements\n",
    "a = np.array([[1,2],[3,4],[5,6]], dtype=np.float64)\n",
    "a"
   ]
  },
  {
   "cell_type": "code",
   "execution_count": 13,
   "id": "98c6f7fe",
   "metadata": {},
   "outputs": [
    {
     "name": "stderr",
     "output_type": "stream",
     "text": [
      "C:\\Users\\Saurabh\\AppData\\Local\\Temp/ipykernel_23320/439302194.py:2: DeprecationWarning: `np.complex` is a deprecated alias for the builtin `complex`. To silence this warning, use `complex` by itself. Doing this will not modify any behavior and is safe. If you specifically wanted the numpy scalar type, use `np.complex128` here.\n",
      "Deprecated in NumPy 1.20; for more details and guidance: https://numpy.org/devdocs/release/1.20.0-notes.html#deprecations\n",
      "  a = np.array([[1,2],[3,4],[5,6]], dtype=np.complex)\n"
     ]
    },
    {
     "data": {
      "text/plain": [
       "array([[1.+0.j, 2.+0.j],\n",
       "       [3.+0.j, 4.+0.j],\n",
       "       [5.+0.j, 6.+0.j]])"
      ]
     },
     "execution_count": 13,
     "metadata": {},
     "output_type": "execute_result"
    }
   ],
   "source": [
    "#Converting integer into complex numbers\n",
    "a = np.array([[1,2],[3,4],[5,6]], dtype=np.complex)\n",
    "a "
   ]
  },
  {
   "cell_type": "code",
   "execution_count": 14,
   "id": "4250619f",
   "metadata": {},
   "outputs": [
    {
     "data": {
      "text/plain": [
       "array([[0., 0., 0.],\n",
       "       [0., 0., 0.],\n",
       "       [0., 0., 0.]])"
      ]
     },
     "execution_count": 14,
     "metadata": {},
     "output_type": "execute_result"
    }
   ],
   "source": [
    "np.zeros((3,3))"
   ]
  },
  {
   "cell_type": "code",
   "execution_count": 15,
   "id": "40576285",
   "metadata": {},
   "outputs": [
    {
     "data": {
      "text/plain": [
       "array([[1., 1., 1.],\n",
       "       [1., 1., 1.],\n",
       "       [1., 1., 1.]])"
      ]
     },
     "execution_count": 15,
     "metadata": {},
     "output_type": "execute_result"
    }
   ],
   "source": [
    "np.ones((3,3))"
   ]
  },
  {
   "cell_type": "markdown",
   "id": "07130ce1",
   "metadata": {},
   "source": [
    "# Range and arange function"
   ]
  },
  {
   "cell_type": "code",
   "execution_count": 16,
   "id": "89206307",
   "metadata": {},
   "outputs": [
    {
     "data": {
      "text/plain": [
       "range(0, 5)"
      ]
     },
     "execution_count": 16,
     "metadata": {},
     "output_type": "execute_result"
    }
   ],
   "source": [
    "l = range(5)\n",
    "l"
   ]
  },
  {
   "cell_type": "code",
   "execution_count": 17,
   "id": "ab533703",
   "metadata": {},
   "outputs": [
    {
     "data": {
      "text/plain": [
       "array([0, 1, 2, 3, 4])"
      ]
     },
     "execution_count": 17,
     "metadata": {},
     "output_type": "execute_result"
    }
   ],
   "source": [
    "l = np.arange(5)\n",
    "l"
   ]
  },
  {
   "cell_type": "markdown",
   "id": "1c7ae231",
   "metadata": {},
   "source": [
    "# Numpy String Function"
   ]
  },
  {
   "cell_type": "code",
   "execution_count": 18,
   "id": "77d58951",
   "metadata": {},
   "outputs": [
    {
     "name": "stdout",
     "output_type": "stream",
     "text": [
      "['HelloSaurabh' 'HiYash']\n"
     ]
    }
   ],
   "source": [
    "#Concatenation\n",
    "\n",
    "print(np.char.add([\"Hello\" , \"Hi\"], ['Saurabh','Yash']))\n"
   ]
  },
  {
   "cell_type": "code",
   "execution_count": 19,
   "id": "f41d24a9",
   "metadata": {},
   "outputs": [
    {
     "name": "stdout",
     "output_type": "stream",
     "text": [
      " Hello  Hello  Hello \n"
     ]
    }
   ],
   "source": [
    "print(np.char.multiply(\" Hello \" , 3))\n"
   ]
  },
  {
   "cell_type": "code",
   "execution_count": 20,
   "id": "f98b4058",
   "metadata": {},
   "outputs": [
    {
     "name": "stdout",
     "output_type": "stream",
     "text": [
      "-------Hello--------\n"
     ]
    }
   ],
   "source": [
    "print(np.char.center('Hello',20,fillchar = '-'))"
   ]
  },
  {
   "cell_type": "code",
   "execution_count": 21,
   "id": "babf3015",
   "metadata": {},
   "outputs": [
    {
     "name": "stdout",
     "output_type": "stream",
     "text": [
      "Hello numpy\n"
     ]
    }
   ],
   "source": [
    "print(np.char.capitalize('Hello Numpy'))\n",
    "#Capatalize is the only highlighting the 1st one character in the string"
   ]
  },
  {
   "cell_type": "code",
   "execution_count": 22,
   "id": "5ed049e2",
   "metadata": {},
   "outputs": [
    {
     "name": "stdout",
     "output_type": "stream",
     "text": [
      "Hello Numpy\n"
     ]
    }
   ],
   "source": [
    "print(np.char.title('Hello Numpy'))\n",
    "#title: It highlight the Each 1st word present in the string"
   ]
  },
  {
   "cell_type": "code",
   "execution_count": 23,
   "id": "3ed8af0d",
   "metadata": {},
   "outputs": [
    {
     "name": "stdout",
     "output_type": "stream",
     "text": [
      "['hello' 'numpy']\n",
      "hello\n"
     ]
    }
   ],
   "source": [
    "print(np.char.lower(['Hello','Numpy']))\n",
    "print(np.char.lower('Hello'))"
   ]
  },
  {
   "cell_type": "code",
   "execution_count": 24,
   "id": "7bae8a00",
   "metadata": {},
   "outputs": [
    {
     "name": "stdout",
     "output_type": "stream",
     "text": [
      "['HELLO' 'NUMPY']\n",
      "HELLO\n"
     ]
    }
   ],
   "source": [
    "print(np.char.upper(['Hello','Numpy']))\n",
    "print(np.char.upper('Hello'))"
   ]
  },
  {
   "cell_type": "code",
   "execution_count": 25,
   "id": "50abcc9a",
   "metadata": {},
   "outputs": [
    {
     "name": "stdout",
     "output_type": "stream",
     "text": [
      "['Are', 'you', 'coming', 'to', 'the', 'movie?']\n"
     ]
    }
   ],
   "source": [
    "print(np.char.split('Are you coming to the movie?'))"
   ]
  },
  {
   "cell_type": "code",
   "execution_count": 26,
   "id": "e597d2b6",
   "metadata": {},
   "outputs": [
    {
     "name": "stdout",
     "output_type": "stream",
     "text": [
      "['Hello', 'How are you?', 'In which year you are?']\n"
     ]
    }
   ],
   "source": [
    "print(np.char.splitlines('Hello\\nHow are you?\\nIn which year you are?'))"
   ]
  },
  {
   "cell_type": "code",
   "execution_count": 27,
   "id": "392f9335",
   "metadata": {},
   "outputs": [
    {
     "name": "stdout",
     "output_type": "stream",
     "text": [
      "['mit' 'tharv']\n"
     ]
    }
   ],
   "source": [
    "print(np.char.strip(['amit','atharva'],'a'))"
   ]
  },
  {
   "cell_type": "code",
   "execution_count": 28,
   "id": "3d5fdff9",
   "metadata": {},
   "outputs": [
    {
     "name": "stdout",
     "output_type": "stream",
     "text": [
      "['d:m:y' 'y-m-d']\n"
     ]
    }
   ],
   "source": [
    "print(np.char.join([':','-'],['dmy','ymd']))"
   ]
  },
  {
   "cell_type": "code",
   "execution_count": 29,
   "id": "fd37b23f",
   "metadata": {},
   "outputs": [
    {
     "name": "stdout",
     "output_type": "stream",
     "text": [
      "He was a good player\n"
     ]
    }
   ],
   "source": [
    "print(np.char.replace('He is a good player','is','was'))\n",
    "#'is' : is replaceing with 'was'"
   ]
  },
  {
   "cell_type": "markdown",
   "id": "20afa19d",
   "metadata": {},
   "source": [
    "# Array Manipulation"
   ]
  },
  {
   "cell_type": "code",
   "execution_count": 30,
   "id": "ca1b59b1",
   "metadata": {},
   "outputs": [],
   "source": [
    "#Array Maipulation - Changing Shape"
   ]
  },
  {
   "cell_type": "code",
   "execution_count": 31,
   "id": "46912f19",
   "metadata": {},
   "outputs": [
    {
     "name": "stdout",
     "output_type": "stream",
     "text": [
      "The Original array: \n",
      "[0 1 2 3 4 5 6 7 8]\n",
      "\n",
      "The Modified Array: \n",
      "[[0 1 2]\n",
      " [3 4 5]\n",
      " [6 7 8]]\n"
     ]
    }
   ],
   "source": [
    "a = np.arange(9)\n",
    "print('The Original array: ')\n",
    "print(a)\n",
    "\n",
    "print()\n",
    "\n",
    "b = a.reshape(3,3)\n",
    "print('The Modified Array: ')\n",
    "print(b)\n",
    "\n",
    "\n",
    "#Note: Here the reshape should be done such that the input value will get equally divide\n",
    "#Here if we give range as 10 and try to reshape as (3,3) It will give error"
   ]
  },
  {
   "cell_type": "code",
   "execution_count": 32,
   "id": "1900fc91",
   "metadata": {},
   "outputs": [
    {
     "name": "stdout",
     "output_type": "stream",
     "text": [
      "[0 1 2 3 4 5 6 7 8]\n"
     ]
    }
   ],
   "source": [
    "print(b.flatten())"
   ]
  },
  {
   "cell_type": "code",
   "execution_count": 33,
   "id": "98d18326",
   "metadata": {},
   "outputs": [
    {
     "name": "stdout",
     "output_type": "stream",
     "text": [
      "[0 3 6 1 4 7 2 5 8]\n"
     ]
    }
   ],
   "source": [
    "#flatten function has three different option to flat the array as: 'C','F','A'\n",
    "print(b.flatten('F'))"
   ]
  },
  {
   "cell_type": "code",
   "execution_count": 34,
   "id": "26ad1ac8",
   "metadata": {},
   "outputs": [
    {
     "name": "stdout",
     "output_type": "stream",
     "text": [
      "[0 1 2 3 4 5 6 7 8]\n"
     ]
    }
   ],
   "source": [
    "print(b.flatten('C'))"
   ]
  },
  {
   "cell_type": "code",
   "execution_count": 35,
   "id": "b6a025f7",
   "metadata": {},
   "outputs": [
    {
     "name": "stdout",
     "output_type": "stream",
     "text": [
      "[0 1 2 3 4 5 6 7 8]\n"
     ]
    }
   ],
   "source": [
    "print(b.flatten('A'))"
   ]
  },
  {
   "cell_type": "code",
   "execution_count": 36,
   "id": "5d90d2f5",
   "metadata": {},
   "outputs": [
    {
     "data": {
      "text/plain": [
       "array([[ 0,  1,  2],\n",
       "       [ 3,  4,  5],\n",
       "       [ 6,  7,  8],\n",
       "       [ 9, 10, 11]])"
      ]
     },
     "execution_count": 36,
     "metadata": {},
     "output_type": "execute_result"
    }
   ],
   "source": [
    "a = np.arange(12).reshape(4,3)\n",
    "a"
   ]
  },
  {
   "cell_type": "code",
   "execution_count": 37,
   "id": "d411c2b7",
   "metadata": {},
   "outputs": [
    {
     "name": "stdout",
     "output_type": "stream",
     "text": [
      "[[ 0  3  6  9]\n",
      " [ 1  4  7 10]\n",
      " [ 2  5  8 11]]\n"
     ]
    }
   ],
   "source": [
    "print(np.transpose(a))"
   ]
  },
  {
   "cell_type": "code",
   "execution_count": 38,
   "id": "8312ae1c",
   "metadata": {},
   "outputs": [
    {
     "name": "stdout",
     "output_type": "stream",
     "text": [
      "[[ 0  1  2  3]\n",
      " [ 4  5  6  7]\n",
      " [ 8  9 10 11]\n",
      " [12 13 14 15]\n",
      " [16 17 18 19]\n",
      " [20 21 22 23]\n",
      " [24 25 26 27]\n",
      " [28 29 30 31]]\n"
     ]
    }
   ],
   "source": [
    "b = np.arange(32).reshape(8,4)\n",
    "print(b)"
   ]
  },
  {
   "cell_type": "code",
   "execution_count": 39,
   "id": "9338157f",
   "metadata": {},
   "outputs": [
    {
     "data": {
      "text/plain": [
       "array([[ 0,  1,  2],\n",
       "       [ 3,  4,  5],\n",
       "       [ 6,  7,  8],\n",
       "       [ 9, 10, 11]])"
      ]
     },
     "execution_count": 39,
     "metadata": {},
     "output_type": "execute_result"
    }
   ],
   "source": [
    "np.rollaxis(a,1,1)"
   ]
  },
  {
   "cell_type": "code",
   "execution_count": 40,
   "id": "2517cc59",
   "metadata": {},
   "outputs": [],
   "source": [
    "#np.swapaxes(a,2,1)"
   ]
  },
  {
   "cell_type": "markdown",
   "id": "a9ec35ce",
   "metadata": {},
   "source": [
    "# Numpy Arithematic Operations"
   ]
  },
  {
   "cell_type": "code",
   "execution_count": 41,
   "id": "8fb0231a",
   "metadata": {},
   "outputs": [
    {
     "data": {
      "text/plain": [
       "array([[0, 1, 2],\n",
       "       [3, 4, 5],\n",
       "       [6, 7, 8]])"
      ]
     },
     "execution_count": 41,
     "metadata": {},
     "output_type": "execute_result"
    }
   ],
   "source": [
    "a = np.arange(9).reshape(3,3)\n",
    "a"
   ]
  },
  {
   "cell_type": "code",
   "execution_count": 42,
   "id": "89949015",
   "metadata": {},
   "outputs": [
    {
     "data": {
      "text/plain": [
       "array([10, 11, 12])"
      ]
     },
     "execution_count": 42,
     "metadata": {},
     "output_type": "execute_result"
    }
   ],
   "source": [
    "b = np.array([10,11,12])\n",
    "b"
   ]
  },
  {
   "cell_type": "code",
   "execution_count": 43,
   "id": "23f1e517",
   "metadata": {},
   "outputs": [
    {
     "data": {
      "text/plain": [
       "array([[10, 12, 14],\n",
       "       [13, 15, 17],\n",
       "       [16, 18, 20]])"
      ]
     },
     "execution_count": 43,
     "metadata": {},
     "output_type": "execute_result"
    }
   ],
   "source": [
    "np.add(a,b)"
   ]
  },
  {
   "cell_type": "code",
   "execution_count": 44,
   "id": "67b34316",
   "metadata": {},
   "outputs": [
    {
     "data": {
      "text/plain": [
       "array([[10, 10, 10],\n",
       "       [ 7,  7,  7],\n",
       "       [ 4,  4,  4]])"
      ]
     },
     "execution_count": 44,
     "metadata": {},
     "output_type": "execute_result"
    }
   ],
   "source": [
    "np.subtract(b,a)"
   ]
  },
  {
   "cell_type": "code",
   "execution_count": 45,
   "id": "c1c9a033",
   "metadata": {},
   "outputs": [
    {
     "data": {
      "text/plain": [
       "array([[ 0, 11, 24],\n",
       "       [30, 44, 60],\n",
       "       [60, 77, 96]])"
      ]
     },
     "execution_count": 45,
     "metadata": {},
     "output_type": "execute_result"
    }
   ],
   "source": [
    "np.multiply(a,b)"
   ]
  },
  {
   "cell_type": "code",
   "execution_count": 46,
   "id": "02b4201a",
   "metadata": {},
   "outputs": [
    {
     "data": {
      "text/plain": [
       "array([[0.        , 0.09090909, 0.16666667],\n",
       "       [0.3       , 0.36363636, 0.41666667],\n",
       "       [0.6       , 0.63636364, 0.66666667]])"
      ]
     },
     "execution_count": 46,
     "metadata": {},
     "output_type": "execute_result"
    }
   ],
   "source": [
    "np.divide(a,b)"
   ]
  },
  {
   "cell_type": "markdown",
   "id": "ebad1dff",
   "metadata": {},
   "source": [
    "# Slicing"
   ]
  },
  {
   "cell_type": "code",
   "execution_count": 47,
   "id": "a2f19ee3",
   "metadata": {},
   "outputs": [
    {
     "data": {
      "text/plain": [
       "array([ 0,  1,  2,  3,  4,  5,  6,  7,  8,  9, 10, 11, 12, 13, 14, 15, 16,\n",
       "       17, 18, 19])"
      ]
     },
     "execution_count": 47,
     "metadata": {},
     "output_type": "execute_result"
    }
   ],
   "source": [
    "a = np.arange(20)\n",
    "a"
   ]
  },
  {
   "cell_type": "code",
   "execution_count": 48,
   "id": "14cfc1a5",
   "metadata": {},
   "outputs": [
    {
     "data": {
      "text/plain": [
       "array([ 5,  6,  7,  8,  9, 10, 11, 12, 13, 14, 15, 16, 17, 18, 19])"
      ]
     },
     "execution_count": 48,
     "metadata": {},
     "output_type": "execute_result"
    }
   ],
   "source": [
    "a[5:]\n",
    "#Slicing is same as like python"
   ]
  },
  {
   "cell_type": "code",
   "execution_count": 49,
   "id": "07f6aa6f",
   "metadata": {},
   "outputs": [
    {
     "data": {
      "text/plain": [
       "array([0, 1, 2, 3, 4, 5, 6, 7, 8])"
      ]
     },
     "execution_count": 49,
     "metadata": {},
     "output_type": "execute_result"
    }
   ],
   "source": [
    "a[:9]"
   ]
  },
  {
   "cell_type": "code",
   "execution_count": 50,
   "id": "9f81599c",
   "metadata": {},
   "outputs": [
    {
     "data": {
      "text/plain": [
       "array([ 5,  6,  7,  8,  9, 10, 11, 12, 13, 14, 15])"
      ]
     },
     "execution_count": 50,
     "metadata": {},
     "output_type": "execute_result"
    }
   ],
   "source": [
    "a[5:16]"
   ]
  },
  {
   "cell_type": "code",
   "execution_count": 51,
   "id": "1491aa9c",
   "metadata": {},
   "outputs": [
    {
     "data": {
      "text/plain": [
       "array([ 5,  7,  9, 11, 13, 15])"
      ]
     },
     "execution_count": 51,
     "metadata": {},
     "output_type": "execute_result"
    }
   ],
   "source": [
    "a[5:16:2]"
   ]
  },
  {
   "cell_type": "code",
   "execution_count": 52,
   "id": "8cdea4da",
   "metadata": {},
   "outputs": [
    {
     "data": {
      "text/plain": [
       "array([ 5,  7,  9, 11, 13, 15])"
      ]
     },
     "execution_count": 52,
     "metadata": {},
     "output_type": "execute_result"
    }
   ],
   "source": [
    "#Another way to do skip slicing\n",
    "s = slice(5,16,2)\n",
    "a[s]"
   ]
  },
  {
   "cell_type": "code",
   "execution_count": 53,
   "id": "25acb011",
   "metadata": {},
   "outputs": [
    {
     "data": {
      "text/plain": [
       "array([ 1,  4,  7, 10, 13, 16])"
      ]
     },
     "execution_count": 53,
     "metadata": {},
     "output_type": "execute_result"
    }
   ],
   "source": [
    "a[1:19:3]"
   ]
  },
  {
   "cell_type": "markdown",
   "id": "d396fa5f",
   "metadata": {},
   "source": [
    "# Iterating Over Array( VIMP)"
   ]
  },
  {
   "cell_type": "code",
   "execution_count": 54,
   "id": "91cadb94",
   "metadata": {},
   "outputs": [
    {
     "data": {
      "text/plain": [
       "array([[ 0,  5, 10],\n",
       "       [15, 20, 25],\n",
       "       [30, 35, 40]])"
      ]
     },
     "execution_count": 54,
     "metadata": {},
     "output_type": "execute_result"
    }
   ],
   "source": [
    "a = np.arange(0,45,5).reshape(3,3)\n",
    "a"
   ]
  },
  {
   "cell_type": "code",
   "execution_count": 55,
   "id": "240b3097",
   "metadata": {},
   "outputs": [
    {
     "data": {
      "text/plain": [
       "array([[ 0,  5, 10],\n",
       "       [15, 20, 25],\n",
       "       [30, 35, 40]])"
      ]
     },
     "execution_count": 55,
     "metadata": {},
     "output_type": "execute_result"
    }
   ],
   "source": [
    "a.reshape(3,3)\n"
   ]
  },
  {
   "cell_type": "code",
   "execution_count": 56,
   "id": "78f815f0",
   "metadata": {},
   "outputs": [
    {
     "name": "stdout",
     "output_type": "stream",
     "text": [
      "0\n",
      "5\n",
      "10\n",
      "15\n",
      "20\n",
      "25\n",
      "30\n",
      "35\n",
      "40\n"
     ]
    }
   ],
   "source": [
    "for x in np.nditer(a):\n",
    "    print(x)"
   ]
  },
  {
   "cell_type": "markdown",
   "id": "1626ea0d",
   "metadata": {},
   "source": [
    "### How to change the Iteration order (c-style and f-style)"
   ]
  },
  {
   "cell_type": "code",
   "execution_count": 57,
   "id": "b4720047",
   "metadata": {},
   "outputs": [
    {
     "name": "stdout",
     "output_type": "stream",
     "text": [
      "[[ 0  5 10]\n",
      " [15 20 25]\n",
      " [30 35 40]]\n",
      "0\n",
      "5\n",
      "10\n",
      "15\n",
      "20\n",
      "25\n",
      "30\n",
      "35\n",
      "40\n"
     ]
    }
   ],
   "source": [
    "print(a)\n",
    "\n",
    "for x in np.nditer(a,order=\"C\"):\n",
    "    print(x)\n",
    "    \n",
    "# Order c iterates as row wise elements"
   ]
  },
  {
   "cell_type": "code",
   "execution_count": 58,
   "id": "75facdd9",
   "metadata": {},
   "outputs": [
    {
     "name": "stdout",
     "output_type": "stream",
     "text": [
      "0\n",
      "15\n",
      "30\n",
      "5\n",
      "20\n",
      "35\n",
      "10\n",
      "25\n",
      "40\n"
     ]
    }
   ],
   "source": [
    "for x in np.nditer(a,order='F'):\n",
    "    print(x)\n",
    "    \n",
    "# Order f iterates as column wise elements"
   ]
  },
  {
   "cell_type": "markdown",
   "id": "a53b1bd2",
   "metadata": {},
   "source": [
    "### Joining Array"
   ]
  },
  {
   "cell_type": "code",
   "execution_count": 59,
   "id": "60614436",
   "metadata": {},
   "outputs": [],
   "source": [
    "# Rule 1 : While going the array the shapeof the array should be same"
   ]
  },
  {
   "cell_type": "code",
   "execution_count": 60,
   "id": "d3ef65cd",
   "metadata": {},
   "outputs": [
    {
     "name": "stdout",
     "output_type": "stream",
     "text": [
      "First Array :  [[1 2]\n",
      " [3 4]]\n",
      "Second Array:  [[5 6]\n",
      " [7 8]]\n",
      "Joining two arrays along axis 0: \n",
      "[[1 2]\n",
      " [3 4]\n",
      " [5 6]\n",
      " [7 8]]\n",
      "Joining two arrays along axis 1: \n",
      "[[1 2 5 6]\n",
      " [3 4 7 8]]\n"
     ]
    }
   ],
   "source": [
    "a = np.array([[1,2],[3,4]])\n",
    "print('First Array : ',a)\n",
    "\n",
    "b = np.array([[5,6],[7,8]])\n",
    "print('Second Array: ',b)\n",
    "\n",
    "print('Joining two arrays along axis 0: ')\n",
    "print(np.concatenate((a,b)))\n",
    "\n",
    "print('Joining two arrays along axis 1: ')\n",
    "print(np.concatenate((a,b),axis=1))\n"
   ]
  },
  {
   "cell_type": "markdown",
   "id": "d2c95fe7",
   "metadata": {},
   "source": [
    "# Spliting Array"
   ]
  },
  {
   "cell_type": "code",
   "execution_count": 61,
   "id": "1fd9db9f",
   "metadata": {},
   "outputs": [
    {
     "name": "stdout",
     "output_type": "stream",
     "text": [
      "[ 0  1  2  3  4  5  6  7  8  9 10 11]\n"
     ]
    },
    {
     "data": {
      "text/plain": [
       "[array([0, 1, 2, 3]), array([4, 5, 6, 7]), array([ 8,  9, 10, 11])]"
      ]
     },
     "execution_count": 61,
     "metadata": {},
     "output_type": "execute_result"
    }
   ],
   "source": [
    "a= np.arange(12)\n",
    "print(a)\n",
    "np.split(a,3)"
   ]
  },
  {
   "cell_type": "code",
   "execution_count": 62,
   "id": "0f376404",
   "metadata": {},
   "outputs": [
    {
     "data": {
      "text/plain": [
       "[array([0, 1, 2, 3, 4]), array([5, 6]), array([ 7,  8,  9, 10, 11])]"
      ]
     },
     "execution_count": 62,
     "metadata": {},
     "output_type": "execute_result"
    }
   ],
   "source": [
    "np.split(a,[5,7])"
   ]
  },
  {
   "cell_type": "code",
   "execution_count": 63,
   "id": "0ef37f71",
   "metadata": {},
   "outputs": [
    {
     "data": {
      "text/plain": [
       "[array([0, 1, 2, 3]), array([4, 5, 6, 7]), array([ 8,  9, 10, 11])]"
      ]
     },
     "execution_count": 63,
     "metadata": {},
     "output_type": "execute_result"
    }
   ],
   "source": [
    "np.split(a,[4,8])"
   ]
  },
  {
   "cell_type": "markdown",
   "id": "907b1cf9",
   "metadata": {},
   "source": [
    "# Resizing an array"
   ]
  },
  {
   "cell_type": "code",
   "execution_count": 64,
   "id": "22195355",
   "metadata": {},
   "outputs": [
    {
     "name": "stdout",
     "output_type": "stream",
     "text": [
      "[[1 2 3]\n",
      " [4 5 6]]\n",
      "(2, 3)\n"
     ]
    }
   ],
   "source": [
    "a = np.array([[1,2,3],[4,5,6]])\n",
    "print(a)\n",
    "print(a.shape)"
   ]
  },
  {
   "cell_type": "code",
   "execution_count": 65,
   "id": "f57510ac",
   "metadata": {},
   "outputs": [
    {
     "name": "stdout",
     "output_type": "stream",
     "text": [
      "[[1 2]\n",
      " [3 4]\n",
      " [5 6]]\n",
      "(3, 2)\n"
     ]
    }
   ],
   "source": [
    "b = np.resize(a,(3,2))\n",
    "print(b)\n",
    "print(b.shape)\n",
    "\n",
    "#Note : In resize we dont have to match the dimension rather in reshape we have to match the dimension"
   ]
  },
  {
   "cell_type": "code",
   "execution_count": 66,
   "id": "061ed7bb",
   "metadata": {},
   "outputs": [
    {
     "name": "stdout",
     "output_type": "stream",
     "text": [
      "[[1 2 3]\n",
      " [4 5 6]\n",
      " [1 2 3]]\n",
      "(3, 3)\n"
     ]
    }
   ],
   "source": [
    "c = np.resize(a,(3,3))\n",
    "print(c)\n",
    "print(c.shape)"
   ]
  },
  {
   "cell_type": "markdown",
   "id": "7755012e",
   "metadata": {},
   "source": [
    "# Histogram"
   ]
  },
  {
   "cell_type": "code",
   "execution_count": 67,
   "id": "9727f8ff",
   "metadata": {},
   "outputs": [],
   "source": [
    "from matplotlib import pyplot as plt"
   ]
  },
  {
   "cell_type": "code",
   "execution_count": 68,
   "id": "8907c30a",
   "metadata": {},
   "outputs": [
    {
     "data": {
      "image/png": "[encoded data removed]",
      "text/plain": [
       "<Figure size 432x288 with 1 Axes>"
      ]
     },
     "metadata": {
      "needs_background": "light"
     },
     "output_type": "display_data"
    }
   ],
   "source": [
    "# Histogram says that how many time the particular nuber has repeated\n",
    "\n",
    "a = np.array([20,87,45,3,39,56,11,72,20,40,15,77,25,29,68,72,99,])\n",
    "plt.hist(a,bins = [0,20,40,60,80,100])\n",
    "plt.title(\"Histogram\")\n",
    "plt.show()"
   ]
  },
  {
   "cell_type": "markdown",
   "id": "22fd5118",
   "metadata": {},
   "source": [
    "# Miscellaneous function of numpy"
   ]
  },
  {
   "cell_type": "code",
   "execution_count": 69,
   "id": "867b8f11",
   "metadata": {},
   "outputs": [
    {
     "name": "stdout",
     "output_type": "stream",
     "text": [
      "[1.         1.44444444 1.88888889 2.33333333 2.77777778 3.22222222\n",
      " 3.66666667 4.11111111 4.55555556 5.        ]\n"
     ]
    }
   ],
   "source": [
    "a = np.linspace(1,5,10)\n",
    "print(a)"
   ]
  },
  {
   "cell_type": "code",
   "execution_count": 70,
   "id": "e0356f3d",
   "metadata": {},
   "outputs": [
    {
     "name": "stdout",
     "output_type": "stream",
     "text": [
      "[4 6 8]\n",
      "[ 6 12]\n"
     ]
    }
   ],
   "source": [
    "# Sum and axis\n",
    "\n",
    "a = np.array([(1,2,3),(3,4,5)])\n",
    "print(a.sum(axis=0))\n",
    "\n",
    "\n",
    "a = np.array([(1,2,3),(3,4,5)])\n",
    "print(a.sum(axis=1))"
   ]
  },
  {
   "cell_type": "code",
   "execution_count": 71,
   "id": "67439e0a",
   "metadata": {},
   "outputs": [
    {
     "name": "stdout",
     "output_type": "stream",
     "text": [
      "[[1.         1.41421356 1.73205081]\n",
      " [2.         2.23606798 2.44948974]]\n",
      "\n",
      "\n",
      "1.707825127659933\n"
     ]
    }
   ],
   "source": [
    "# Square root and Standard Devation\n",
    "\n",
    "a = np.array([(1,2,3),(4,5,6)])\n",
    "print(np.sqrt(a))\n",
    "\n",
    "print('\\n')\n",
    "\n",
    "print(np.std(a))"
   ]
  },
  {
   "cell_type": "code",
   "execution_count": 72,
   "id": "93155be5",
   "metadata": {},
   "outputs": [
    {
     "name": "stdout",
     "output_type": "stream",
     "text": [
      "[1 2 3 6 5 4]\n"
     ]
    }
   ],
   "source": [
    "# ravel function\n",
    "\n",
    "a = np.array([(1,2,3),(6,5,4)])\n",
    "print(a.ravel())"
   ]
  },
  {
   "cell_type": "code",
   "execution_count": 73,
   "id": "fdc5dd8b",
   "metadata": {},
   "outputs": [
    {
     "name": "stdout",
     "output_type": "stream",
     "text": [
      "[0.         0.30103    0.47712125 0.60205999]\n"
     ]
    }
   ],
   "source": [
    "#Logarthmic function\n",
    " \n",
    "a = np.array([1,2,3,4])\n",
    "print(np.log10(a))"
   ]
  },
  {
   "cell_type": "markdown",
   "id": "cb4a088d",
   "metadata": {},
   "source": [
    "# Practise Example"
   ]
  },
  {
   "cell_type": "code",
   "execution_count": 74,
   "id": "ff694e39",
   "metadata": {},
   "outputs": [
    {
     "data": {
      "image/png": "[encoded data removed]",
      "text/plain": [
       "<Figure size 432x288 with 1 Axes>"
      ]
     },
     "metadata": {
      "needs_background": "light"
     },
     "output_type": "display_data"
    }
   ],
   "source": [
    "# Using numpy and matplotlib Try to plot a sin graph\n",
    "\n",
    "import numpy as np\n",
    "import  matplotlib.pyplot as plt\n",
    "\n",
    "x = np.arange(0,3*np.pi,0.1)\n",
    "#print(x)\n",
    "y = np.sin(x)\n",
    "#print(y)\n",
    "\n",
    "plt.plot(x,y)\n",
    "plt.show()"
   ]
  },
  {
   "cell_type": "code",
   "execution_count": 75,
   "id": "1a7cb2df",
   "metadata": {},
   "outputs": [
    {
     "data": {
      "text/plain": [
       "array([[0, 0, 0, 0, 0, 0],\n",
       "       [0, 0, 0, 0, 0, 0],\n",
       "       [0, 0, 0, 0, 0, 0],\n",
       "       [0, 0, 0, 0, 0, 0],\n",
       "       [0, 0, 0, 0, 0, 0],\n",
       "       [0, 0, 0, 0, 0, 0]])"
      ]
     },
     "execution_count": 75,
     "metadata": {},
     "output_type": "execute_result"
    }
   ],
   "source": [
    "# Create a 6*6 two dimensional array and let 1 and 0 be placed alternatively aross the diagonal\n",
    "\n",
    "x = np.zeros((6,6),dtype=int)\n",
    "x"
   ]
  },
  {
   "cell_type": "code",
   "execution_count": 76,
   "id": "ce45bc18",
   "metadata": {},
   "outputs": [
    {
     "data": {
      "text/plain": [
       "array([[0, 0, 0, 0, 0, 0],\n",
       "       [1, 0, 1, 0, 1, 0],\n",
       "       [0, 0, 0, 0, 0, 0],\n",
       "       [1, 0, 1, 0, 1, 0],\n",
       "       [0, 0, 0, 0, 0, 0],\n",
       "       [1, 0, 1, 0, 1, 0]])"
      ]
     },
     "execution_count": 76,
     "metadata": {},
     "output_type": "execute_result"
    }
   ],
   "source": [
    "x[1::2,::2] = 1\n",
    "x\n",
    "# Here rows are skipped with zeros and replaced with 1"
   ]
  },
  {
   "cell_type": "code",
   "execution_count": 77,
   "id": "dcb0c789",
   "metadata": {},
   "outputs": [
    {
     "data": {
      "text/plain": [
       "array([[0, 1, 0, 1, 0, 1],\n",
       "       [1, 0, 1, 0, 1, 0],\n",
       "       [0, 1, 0, 1, 0, 1],\n",
       "       [1, 0, 1, 0, 1, 0],\n",
       "       [0, 1, 0, 1, 0, 1],\n",
       "       [1, 0, 1, 0, 1, 0]])"
      ]
     },
     "execution_count": 77,
     "metadata": {},
     "output_type": "execute_result"
    }
   ],
   "source": [
    "x[1::2,::2] = 1\n",
    "x[::2,1::2] = 1\n",
    "x\n",
    "# THIS IS OUR ANSWER"
   ]
  },
  {
   "cell_type": "code",
   "execution_count": 78,
   "id": "9600352e",
   "metadata": {},
   "outputs": [
    {
     "data": {
      "text/plain": [
       "array([[2.85216724e-01,            nan, 8.58262349e-01, 5.12535465e-01,\n",
       "        9.65222779e-01, 6.16299689e-02, 2.85604100e-01, 6.21384863e-01,\n",
       "        5.95998484e-01, 1.83195236e-01],\n",
       "       [7.53672479e-01, 6.85424923e-01, 7.31286713e-01, 9.38137145e-01,\n",
       "        1.16381472e-01, 4.73885377e-01, 6.53246154e-02, 1.74977474e-01,\n",
       "        3.54329007e-01, 7.65717262e-01],\n",
       "       [6.23717390e-01, 7.66567167e-01, 2.37806150e-01, 8.79149368e-01,\n",
       "        6.95833479e-01, 1.49119993e-01, 8.88500402e-01, 8.00101226e-01,\n",
       "        6.15997997e-02, 5.04839512e-01],\n",
       "       [3.22952808e-01, 5.77013372e-01, 8.21230283e-01, 8.58030556e-01,\n",
       "        4.07309972e-01, 5.87299983e-04, 5.77706813e-01, 4.55503718e-01,\n",
       "        8.08727414e-01, 2.56811684e-01],\n",
       "       [8.69755263e-01, 5.72767730e-01, 6.62126125e-01, 9.08319979e-01,\n",
       "        9.66474038e-01, 1.45120694e-01, 9.83799491e-02,            nan,\n",
       "                   nan, 4.95606062e-01],\n",
       "       [6.47654001e-01, 3.55125695e-01, 3.74160582e-01, 8.35413730e-01,\n",
       "        5.11396121e-01, 5.08361196e-02, 8.49192723e-01, 9.19985228e-01,\n",
       "        8.43154327e-01, 6.06234211e-01],\n",
       "       [4.98684191e-01, 2.50609183e-02, 6.90859538e-01, 2.50694290e-01,\n",
       "        9.18842644e-01, 4.04807096e-01, 1.13617724e-02, 5.48854607e-01,\n",
       "        7.48290887e-01, 9.81117191e-01],\n",
       "       [6.04967210e-01, 6.17784258e-01, 5.71635223e-01, 2.39733338e-01,\n",
       "        4.72240427e-01, 7.45015366e-02, 9.62371026e-01, 6.94555167e-01,\n",
       "        7.33883820e-01,            nan],\n",
       "       [8.85463905e-01, 5.44119281e-01, 2.32994247e-01, 7.06088292e-01,\n",
       "        9.33647199e-01, 6.28125594e-01, 6.38958467e-01, 8.73651902e-01,\n",
       "        6.72234123e-01, 2.30610169e-01],\n",
       "       [9.43818260e-01, 3.91510642e-01, 4.74362588e-01, 6.09712561e-01,\n",
       "        1.97880952e-01, 6.12819176e-01, 3.48890640e-02,            nan,\n",
       "        2.49362664e-01, 8.15202686e-01]])"
      ]
     },
     "execution_count": 78,
     "metadata": {},
     "output_type": "execute_result"
    }
   ],
   "source": [
    "# Find the total number and location of missing values in the array\n",
    "\n",
    "x = np.random.rand(10,10)\n",
    "x[np.random.randint(10,size=5), np.random.randint(10,size=5)] = np.nan\n",
    "x"
   ]
  },
  {
   "cell_type": "code",
   "execution_count": null,
   "id": "44bcc5ea",
   "metadata": {},
   "outputs": [],
   "source": []
  }
 ],
 "metadata": {
  "kernelspec": {
   "display_name": "Python 3 (ipykernel)",
   "language": "python",
   "name": "python3"
  },
  "language_info": {
   "codemirror_mode": {
    "name": "ipython",
    "version": 3
   },
   "file_extension": ".py",
   "mimetype": "text/x-python",
   "name": "python",
   "nbconvert_exporter": "python",
   "pygments_lexer": "ipython3",
   "version": "3.9.7"
  }
 },
 "nbformat": 4,
 "nbformat_minor": 5
}
